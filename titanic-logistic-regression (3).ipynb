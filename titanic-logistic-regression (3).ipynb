{
 "cells": [
  {
   "cell_type": "code",
   "execution_count": 1,
   "id": "aa1fc98e",
   "metadata": {
    "_cell_guid": "b1076dfc-b9ad-4769-8c92-a6c4dae69d19",
    "_uuid": "8f2839f25d086af736a60e9eeb907d3b93b6e0e5",
    "execution": {
     "iopub.execute_input": "2024-03-15T12:10:00.826026Z",
     "iopub.status.busy": "2024-03-15T12:10:00.825140Z",
     "iopub.status.idle": "2024-03-15T12:10:03.736993Z",
     "shell.execute_reply": "2024-03-15T12:10:03.735346Z"
    },
    "papermill": {
     "duration": 2.938088,
     "end_time": "2024-03-15T12:10:03.740896",
     "exception": false,
     "start_time": "2024-03-15T12:10:00.802808",
     "status": "completed"
    },
    "tags": []
   },
   "outputs": [
    {
     "name": "stdout",
     "output_type": "stream",
     "text": [
      "/kaggle/input/titanic/train.csv\n",
      "/kaggle/input/titanic/test.csv\n",
      "/kaggle/input/titanic/gender_submission.csv\n"
     ]
    }
   ],
   "source": [
    "# This Python 3 environment comes with many helpful analytics libraries installed\n",
    "# It is defined by the kaggle/python Docker image: https://github.com/kaggle/docker-python\n",
    "# For example, here's several helpful packages to load\n",
    "\n",
    "import numpy as np # linear algebra\n",
    "import pandas as pd # data processing, CSV file I/O (e.g. pd.read_csv)\n",
    "import matplotlib.pyplot as plt\n",
    "import seaborn as sns\n",
    "\n",
    "# Input data files are available in the read-only \"../input/\" directory\n",
    "# For example, running this (by clicking run or pressing Shift+Enter) will list all files under the input directory\n",
    "\n",
    "import os\n",
    "for dirname, _, filenames in os.walk('/kaggle/input'):\n",
    "    for filename in filenames:\n",
    "        print(os.path.join(dirname, filename))\n",
    "\n",
    "# You can write up to 20GB to the current directory (/kaggle/working/) that gets preserved as output when you create a version using \"Save & Run All\" \n",
    "# You can also write temporary files to /kaggle/temp/, but they won't be saved outside of the current session"
   ]
  },
  {
   "cell_type": "code",
   "execution_count": 2,
   "id": "0ea384cc",
   "metadata": {
    "execution": {
     "iopub.execute_input": "2024-03-15T12:10:03.786585Z",
     "iopub.status.busy": "2024-03-15T12:10:03.785422Z",
     "iopub.status.idle": "2024-03-15T12:10:03.816997Z",
     "shell.execute_reply": "2024-03-15T12:10:03.815642Z"
    },
    "papermill": {
     "duration": 0.058176,
     "end_time": "2024-03-15T12:10:03.820046",
     "exception": false,
     "start_time": "2024-03-15T12:10:03.761870",
     "status": "completed"
    },
    "tags": []
   },
   "outputs": [],
   "source": [
    "train=pd.read_csv('/kaggle/input/titanic/train.csv')\n",
    "test=pd.read_csv('/kaggle/input/titanic/test.csv')"
   ]
  },
  {
   "cell_type": "code",
   "execution_count": 3,
   "id": "fdd095dd",
   "metadata": {
    "execution": {
     "iopub.execute_input": "2024-03-15T12:10:03.863635Z",
     "iopub.status.busy": "2024-03-15T12:10:03.862871Z",
     "iopub.status.idle": "2024-03-15T12:10:03.893350Z",
     "shell.execute_reply": "2024-03-15T12:10:03.892133Z"
    },
    "papermill": {
     "duration": 0.056009,
     "end_time": "2024-03-15T12:10:03.896084",
     "exception": false,
     "start_time": "2024-03-15T12:10:03.840075",
     "status": "completed"
    },
    "tags": []
   },
   "outputs": [
    {
     "data": {
      "text/html": [
       "<div>\n",
       "<style scoped>\n",
       "    .dataframe tbody tr th:only-of-type {\n",
       "        vertical-align: middle;\n",
       "    }\n",
       "\n",
       "    .dataframe tbody tr th {\n",
       "        vertical-align: top;\n",
       "    }\n",
       "\n",
       "    .dataframe thead th {\n",
       "        text-align: right;\n",
       "    }\n",
       "</style>\n",
       "<table border=\"1\" class=\"dataframe\">\n",
       "  <thead>\n",
       "    <tr style=\"text-align: right;\">\n",
       "      <th></th>\n",
       "      <th>PassengerId</th>\n",
       "      <th>Survived</th>\n",
       "      <th>Pclass</th>\n",
       "      <th>Name</th>\n",
       "      <th>Sex</th>\n",
       "      <th>Age</th>\n",
       "      <th>SibSp</th>\n",
       "      <th>Parch</th>\n",
       "      <th>Ticket</th>\n",
       "      <th>Fare</th>\n",
       "      <th>Cabin</th>\n",
       "      <th>Embarked</th>\n",
       "    </tr>\n",
       "  </thead>\n",
       "  <tbody>\n",
       "    <tr>\n",
       "      <th>0</th>\n",
       "      <td>1</td>\n",
       "      <td>0</td>\n",
       "      <td>3</td>\n",
       "      <td>Braund, Mr. Owen Harris</td>\n",
       "      <td>male</td>\n",
       "      <td>22.0</td>\n",
       "      <td>1</td>\n",
       "      <td>0</td>\n",
       "      <td>A/5 21171</td>\n",
       "      <td>7.2500</td>\n",
       "      <td>NaN</td>\n",
       "      <td>S</td>\n",
       "    </tr>\n",
       "    <tr>\n",
       "      <th>1</th>\n",
       "      <td>2</td>\n",
       "      <td>1</td>\n",
       "      <td>1</td>\n",
       "      <td>Cumings, Mrs. John Bradley (Florence Briggs Th...</td>\n",
       "      <td>female</td>\n",
       "      <td>38.0</td>\n",
       "      <td>1</td>\n",
       "      <td>0</td>\n",
       "      <td>PC 17599</td>\n",
       "      <td>71.2833</td>\n",
       "      <td>C85</td>\n",
       "      <td>C</td>\n",
       "    </tr>\n",
       "    <tr>\n",
       "      <th>2</th>\n",
       "      <td>3</td>\n",
       "      <td>1</td>\n",
       "      <td>3</td>\n",
       "      <td>Heikkinen, Miss. Laina</td>\n",
       "      <td>female</td>\n",
       "      <td>26.0</td>\n",
       "      <td>0</td>\n",
       "      <td>0</td>\n",
       "      <td>STON/O2. 3101282</td>\n",
       "      <td>7.9250</td>\n",
       "      <td>NaN</td>\n",
       "      <td>S</td>\n",
       "    </tr>\n",
       "    <tr>\n",
       "      <th>3</th>\n",
       "      <td>4</td>\n",
       "      <td>1</td>\n",
       "      <td>1</td>\n",
       "      <td>Futrelle, Mrs. Jacques Heath (Lily May Peel)</td>\n",
       "      <td>female</td>\n",
       "      <td>35.0</td>\n",
       "      <td>1</td>\n",
       "      <td>0</td>\n",
       "      <td>113803</td>\n",
       "      <td>53.1000</td>\n",
       "      <td>C123</td>\n",
       "      <td>S</td>\n",
       "    </tr>\n",
       "    <tr>\n",
       "      <th>4</th>\n",
       "      <td>5</td>\n",
       "      <td>0</td>\n",
       "      <td>3</td>\n",
       "      <td>Allen, Mr. William Henry</td>\n",
       "      <td>male</td>\n",
       "      <td>35.0</td>\n",
       "      <td>0</td>\n",
       "      <td>0</td>\n",
       "      <td>373450</td>\n",
       "      <td>8.0500</td>\n",
       "      <td>NaN</td>\n",
       "      <td>S</td>\n",
       "    </tr>\n",
       "  </tbody>\n",
       "</table>\n",
       "</div>"
      ],
      "text/plain": [
       "   PassengerId  Survived  Pclass  \\\n",
       "0            1         0       3   \n",
       "1            2         1       1   \n",
       "2            3         1       3   \n",
       "3            4         1       1   \n",
       "4            5         0       3   \n",
       "\n",
       "                                                Name     Sex   Age  SibSp  \\\n",
       "0                            Braund, Mr. Owen Harris    male  22.0      1   \n",
       "1  Cumings, Mrs. John Bradley (Florence Briggs Th...  female  38.0      1   \n",
       "2                             Heikkinen, Miss. Laina  female  26.0      0   \n",
       "3       Futrelle, Mrs. Jacques Heath (Lily May Peel)  female  35.0      1   \n",
       "4                           Allen, Mr. William Henry    male  35.0      0   \n",
       "\n",
       "   Parch            Ticket     Fare Cabin Embarked  \n",
       "0      0         A/5 21171   7.2500   NaN        S  \n",
       "1      0          PC 17599  71.2833   C85        C  \n",
       "2      0  STON/O2. 3101282   7.9250   NaN        S  \n",
       "3      0            113803  53.1000  C123        S  \n",
       "4      0            373450   8.0500   NaN        S  "
      ]
     },
     "execution_count": 3,
     "metadata": {},
     "output_type": "execute_result"
    }
   ],
   "source": [
    "train.head()"
   ]
  },
  {
   "cell_type": "code",
   "execution_count": 4,
   "id": "7c648417",
   "metadata": {
    "execution": {
     "iopub.execute_input": "2024-03-15T12:10:03.939035Z",
     "iopub.status.busy": "2024-03-15T12:10:03.938634Z",
     "iopub.status.idle": "2024-03-15T12:10:03.944751Z",
     "shell.execute_reply": "2024-03-15T12:10:03.943323Z"
    },
    "papermill": {
     "duration": 0.030964,
     "end_time": "2024-03-15T12:10:03.947506",
     "exception": false,
     "start_time": "2024-03-15T12:10:03.916542",
     "status": "completed"
    },
    "tags": []
   },
   "outputs": [
    {
     "name": "stdout",
     "output_type": "stream",
     "text": [
      "(891, 12)\n"
     ]
    }
   ],
   "source": [
    "print(train.shape)"
   ]
  },
  {
   "cell_type": "code",
   "execution_count": 5,
   "id": "236a0428",
   "metadata": {
    "execution": {
     "iopub.execute_input": "2024-03-15T12:10:03.991738Z",
     "iopub.status.busy": "2024-03-15T12:10:03.991332Z",
     "iopub.status.idle": "2024-03-15T12:10:04.026000Z",
     "shell.execute_reply": "2024-03-15T12:10:04.024222Z"
    },
    "papermill": {
     "duration": 0.060206,
     "end_time": "2024-03-15T12:10:04.028852",
     "exception": false,
     "start_time": "2024-03-15T12:10:03.968646",
     "status": "completed"
    },
    "tags": []
   },
   "outputs": [
    {
     "name": "stdout",
     "output_type": "stream",
     "text": [
      "<class 'pandas.core.frame.DataFrame'>\n",
      "RangeIndex: 891 entries, 0 to 890\n",
      "Data columns (total 12 columns):\n",
      " #   Column       Non-Null Count  Dtype  \n",
      "---  ------       --------------  -----  \n",
      " 0   PassengerId  891 non-null    int64  \n",
      " 1   Survived     891 non-null    int64  \n",
      " 2   Pclass       891 non-null    int64  \n",
      " 3   Name         891 non-null    object \n",
      " 4   Sex          891 non-null    object \n",
      " 5   Age          714 non-null    float64\n",
      " 6   SibSp        891 non-null    int64  \n",
      " 7   Parch        891 non-null    int64  \n",
      " 8   Ticket       891 non-null    object \n",
      " 9   Fare         891 non-null    float64\n",
      " 10  Cabin        204 non-null    object \n",
      " 11  Embarked     889 non-null    object \n",
      "dtypes: float64(2), int64(5), object(5)\n",
      "memory usage: 83.7+ KB\n"
     ]
    }
   ],
   "source": [
    "train.info()"
   ]
  },
  {
   "cell_type": "code",
   "execution_count": 6,
   "id": "6d48702a",
   "metadata": {
    "execution": {
     "iopub.execute_input": "2024-03-15T12:10:04.073245Z",
     "iopub.status.busy": "2024-03-15T12:10:04.072070Z",
     "iopub.status.idle": "2024-03-15T12:10:04.083492Z",
     "shell.execute_reply": "2024-03-15T12:10:04.082116Z"
    },
    "papermill": {
     "duration": 0.036586,
     "end_time": "2024-03-15T12:10:04.086218",
     "exception": false,
     "start_time": "2024-03-15T12:10:04.049632",
     "status": "completed"
    },
    "tags": []
   },
   "outputs": [
    {
     "data": {
      "text/plain": [
       "PassengerId      0\n",
       "Survived         0\n",
       "Pclass           0\n",
       "Name             0\n",
       "Sex              0\n",
       "Age            177\n",
       "SibSp            0\n",
       "Parch            0\n",
       "Ticket           0\n",
       "Fare             0\n",
       "Cabin          687\n",
       "Embarked         2\n",
       "dtype: int64"
      ]
     },
     "execution_count": 6,
     "metadata": {},
     "output_type": "execute_result"
    }
   ],
   "source": [
    "train.isnull().sum()"
   ]
  },
  {
   "cell_type": "code",
   "execution_count": 7,
   "id": "386a3b5f",
   "metadata": {
    "execution": {
     "iopub.execute_input": "2024-03-15T12:10:04.130530Z",
     "iopub.status.busy": "2024-03-15T12:10:04.129612Z",
     "iopub.status.idle": "2024-03-15T12:10:04.436478Z",
     "shell.execute_reply": "2024-03-15T12:10:04.434599Z"
    },
    "papermill": {
     "duration": 0.332809,
     "end_time": "2024-03-15T12:10:04.439643",
     "exception": false,
     "start_time": "2024-03-15T12:10:04.106834",
     "status": "completed"
    },
    "tags": []
   },
   "outputs": [
    {
     "data": {
      "text/plain": [
       "<Axes: >"
      ]
     },
     "execution_count": 7,
     "metadata": {},
     "output_type": "execute_result"
    },
    {
     "data": {
      "image/png": "[encoded data removed]",
      "text/plain": [
       "<Figure size 640x480 with 1 Axes>"
      ]
     },
     "metadata": {},
     "output_type": "display_data"
    }
   ],
   "source": [
    "sns.heatmap(train.isnull(),yticklabels = False, cbar=False, cmap='viridis')"
   ]
  },
  {
   "cell_type": "code",
   "execution_count": 8,
   "id": "32064f0c",
   "metadata": {
    "execution": {
     "iopub.execute_input": "2024-03-15T12:10:04.485823Z",
     "iopub.status.busy": "2024-03-15T12:10:04.485388Z",
     "iopub.status.idle": "2024-03-15T12:10:04.491478Z",
     "shell.execute_reply": "2024-03-15T12:10:04.490073Z"
    },
    "papermill": {
     "duration": 0.032537,
     "end_time": "2024-03-15T12:10:04.494135",
     "exception": false,
     "start_time": "2024-03-15T12:10:04.461598",
     "status": "completed"
    },
    "tags": []
   },
   "outputs": [],
   "source": [
    "sns.set_style('whitegrid')"
   ]
  },
  {
   "cell_type": "code",
   "execution_count": 9,
   "id": "01f39c7f",
   "metadata": {
    "execution": {
     "iopub.execute_input": "2024-03-15T12:10:04.539432Z",
     "iopub.status.busy": "2024-03-15T12:10:04.538996Z",
     "iopub.status.idle": "2024-03-15T12:10:04.896324Z",
     "shell.execute_reply": "2024-03-15T12:10:04.895326Z"
    },
    "papermill": {
     "duration": 0.382906,
     "end_time": "2024-03-15T12:10:04.899185",
     "exception": false,
     "start_time": "2024-03-15T12:10:04.516279",
     "status": "completed"
    },
    "tags": []
   },
   "outputs": [
    {
     "data": {
      "text/plain": [
       "<Axes: xlabel='Survived', ylabel='count'>"
      ]
     },
     "execution_count": 9,
     "metadata": {},
     "output_type": "execute_result"
    },
    {
     "data": {
      "image/png": "[encoded data removed]",
      "text/plain": [
       "<Figure size 640x480 with 1 Axes>"
      ]
     },
     "metadata": {},
     "output_type": "display_data"
    }
   ],
   "source": [
    "sns.countplot(x='Survived',data=train)"
   ]
  },
  {
   "cell_type": "code",
   "execution_count": 10,
   "id": "a4c556a2",
   "metadata": {
    "execution": {
     "iopub.execute_input": "2024-03-15T12:10:04.945098Z",
     "iopub.status.busy": "2024-03-15T12:10:04.944261Z",
     "iopub.status.idle": "2024-03-15T12:10:05.259724Z",
     "shell.execute_reply": "2024-03-15T12:10:05.258303Z"
    },
    "papermill": {
     "duration": 0.341646,
     "end_time": "2024-03-15T12:10:05.262593",
     "exception": false,
     "start_time": "2024-03-15T12:10:04.920947",
     "status": "completed"
    },
    "tags": []
   },
   "outputs": [
    {
     "data": {
      "text/plain": [
       "<Axes: xlabel='Survived', ylabel='count'>"
      ]
     },
     "execution_count": 10,
     "metadata": {},
     "output_type": "execute_result"
    },
    {
     "data": {
      "image/png": "[encoded data removed]",
      "text/plain": [
       "<Figure size 640x480 with 1 Axes>"
      ]
     },
     "metadata": {},
     "output_type": "display_data"
    }
   ],
   "source": [
    "sns.countplot(x='Survived',hue='Sex',data=train)"
   ]
  },
  {
   "cell_type": "code",
   "execution_count": 11,
   "id": "3916878c",
   "metadata": {
    "execution": {
     "iopub.execute_input": "2024-03-15T12:10:05.310853Z",
     "iopub.status.busy": "2024-03-15T12:10:05.310465Z",
     "iopub.status.idle": "2024-03-15T12:10:05.667344Z",
     "shell.execute_reply": "2024-03-15T12:10:05.665636Z"
    },
    "papermill": {
     "duration": 0.385001,
     "end_time": "2024-03-15T12:10:05.670306",
     "exception": false,
     "start_time": "2024-03-15T12:10:05.285305",
     "status": "completed"
    },
    "tags": []
   },
   "outputs": [
    {
     "data": {
      "text/plain": [
       "<Axes: xlabel='Survived', ylabel='count'>"
      ]
     },
     "execution_count": 11,
     "metadata": {},
     "output_type": "execute_result"
    },
    {
     "data": {
      "image/png": "[encoded data removed]",
      "text/plain": [
       "<Figure size 640x480 with 1 Axes>"
      ]
     },
     "metadata": {},
     "output_type": "display_data"
    }
   ],
   "source": [
    "sns.countplot(x='Survived',hue='Pclass',data=train)"
   ]
  },
  {
   "cell_type": "code",
   "execution_count": 12,
   "id": "c387b810",
   "metadata": {
    "execution": {
     "iopub.execute_input": "2024-03-15T12:10:05.721041Z",
     "iopub.status.busy": "2024-03-15T12:10:05.720230Z",
     "iopub.status.idle": "2024-03-15T12:10:06.512377Z",
     "shell.execute_reply": "2024-03-15T12:10:06.511032Z"
    },
    "papermill": {
     "duration": 0.820346,
     "end_time": "2024-03-15T12:10:06.515219",
     "exception": false,
     "start_time": "2024-03-15T12:10:05.694873",
     "status": "completed"
    },
    "tags": []
   },
   "outputs": [
    {
     "name": "stderr",
     "output_type": "stream",
     "text": [
      "/opt/conda/lib/python3.10/site-packages/seaborn/_oldcore.py:1119: FutureWarning: use_inf_as_na option is deprecated and will be removed in a future version. Convert inf values to NaN before operating instead.\n",
      "  with pd.option_context('mode.use_inf_as_na', True):\n"
     ]
    },
    {
     "data": {
      "text/plain": [
       "<seaborn.axisgrid.FacetGrid at 0x7e2a18b61cf0>"
      ]
     },
     "execution_count": 12,
     "metadata": {},
     "output_type": "execute_result"
    },
    {
     "data": {
      "image/png": "[encoded data removed]",
      "text/plain": [
       "<Figure size 500x500 with 1 Axes>"
      ]
     },
     "metadata": {},
     "output_type": "display_data"
    }
   ],
   "source": [
    "sns.displot(train['Age'].dropna(),kde=False, bins=30)"
   ]
  },
  {
   "cell_type": "code",
   "execution_count": 13,
   "id": "88191f0d",
   "metadata": {
    "execution": {
     "iopub.execute_input": "2024-03-15T12:10:06.566223Z",
     "iopub.status.busy": "2024-03-15T12:10:06.565480Z",
     "iopub.status.idle": "2024-03-15T12:10:06.963354Z",
     "shell.execute_reply": "2024-03-15T12:10:06.962096Z"
    },
    "papermill": {
     "duration": 0.426611,
     "end_time": "2024-03-15T12:10:06.966184",
     "exception": false,
     "start_time": "2024-03-15T12:10:06.539573",
     "status": "completed"
    },
    "tags": []
   },
   "outputs": [
    {
     "data": {
      "text/plain": [
       "<Axes: xlabel='SibSp', ylabel='count'>"
      ]
     },
     "execution_count": 13,
     "metadata": {},
     "output_type": "execute_result"
    },
    {
     "data": {
      "image/png": "[encoded data removed]",
      "text/plain": [
       "<Figure size 640x480 with 1 Axes>"
      ]
     },
     "metadata": {},
     "output_type": "display_data"
    }
   ],
   "source": [
    "sns.countplot(x='SibSp',data=train)"
   ]
  },
  {
   "cell_type": "code",
   "execution_count": 14,
   "id": "be61d861",
   "metadata": {
    "execution": {
     "iopub.execute_input": "2024-03-15T12:10:07.016283Z",
     "iopub.status.busy": "2024-03-15T12:10:07.015259Z",
     "iopub.status.idle": "2024-03-15T12:10:07.475468Z",
     "shell.execute_reply": "2024-03-15T12:10:07.474274Z"
    },
    "papermill": {
     "duration": 0.488121,
     "end_time": "2024-03-15T12:10:07.478224",
     "exception": false,
     "start_time": "2024-03-15T12:10:06.990103",
     "status": "completed"
    },
    "tags": []
   },
   "outputs": [
    {
     "data": {
      "text/plain": [
       "<Axes: >"
      ]
     },
     "execution_count": 14,
     "metadata": {},
     "output_type": "execute_result"
    },
    {
     "data": {
      "image/png": "[encoded data removed]",
      "text/plain": [
       "<Figure size 1000x400 with 1 Axes>"
      ]
     },
     "metadata": {},
     "output_type": "display_data"
    }
   ],
   "source": [
    "train['Fare'].hist(bins=30,figsize=(10,4))"
   ]
  },
  {
   "cell_type": "code",
   "execution_count": 15,
   "id": "e2d4f5b6",
   "metadata": {
    "execution": {
     "iopub.execute_input": "2024-03-15T12:10:07.528958Z",
     "iopub.status.busy": "2024-03-15T12:10:07.528519Z",
     "iopub.status.idle": "2024-03-15T12:10:07.928909Z",
     "shell.execute_reply": "2024-03-15T12:10:07.927603Z"
    },
    "papermill": {
     "duration": 0.429821,
     "end_time": "2024-03-15T12:10:07.932471",
     "exception": false,
     "start_time": "2024-03-15T12:10:07.502650",
     "status": "completed"
    },
    "tags": []
   },
   "outputs": [
    {
     "data": {
      "text/plain": [
       "<Axes: xlabel='Pclass', ylabel='Age'>"
      ]
     },
     "execution_count": 15,
     "metadata": {},
     "output_type": "execute_result"
    },
    {
     "data": {
      "image/png": "[encoded data removed]",
      "text/plain": [
       "<Figure size 1000x700 with 1 Axes>"
      ]
     },
     "metadata": {},
     "output_type": "display_data"
    }
   ],
   "source": [
    "plt.figure(figsize=(10,7))\n",
    "sns.boxplot(x='Pclass', y='Age', data=train)"
   ]
  },
  {
   "cell_type": "code",
   "execution_count": 16,
   "id": "45d41c59",
   "metadata": {
    "execution": {
     "iopub.execute_input": "2024-03-15T12:10:07.987320Z",
     "iopub.status.busy": "2024-03-15T12:10:07.986659Z",
     "iopub.status.idle": "2024-03-15T12:10:07.992987Z",
     "shell.execute_reply": "2024-03-15T12:10:07.992020Z"
    },
    "papermill": {
     "duration": 0.035709,
     "end_time": "2024-03-15T12:10:07.996368",
     "exception": false,
     "start_time": "2024-03-15T12:10:07.960659",
     "status": "completed"
    },
    "tags": []
   },
   "outputs": [],
   "source": [
    "def impute_age(cols):\n",
    "    Age = cols[0]\n",
    "    Pclass = cols[1]\n",
    "\n",
    "    if pd.isnull(Age):\n",
    "        if Pclass==1:\n",
    "            return 37\n",
    "        elif Pclass==2:\n",
    "            return 29\n",
    "        else:\n",
    "            return 24\n",
    "    else:\n",
    "        return Age"
   ]
  },
  {
   "cell_type": "code",
   "execution_count": 17,
   "id": "4c383127",
   "metadata": {
    "execution": {
     "iopub.execute_input": "2024-03-15T12:10:08.052500Z",
     "iopub.status.busy": "2024-03-15T12:10:08.051102Z",
     "iopub.status.idle": "2024-03-15T12:10:08.111027Z",
     "shell.execute_reply": "2024-03-15T12:10:08.109715Z"
    },
    "papermill": {
     "duration": 0.089941,
     "end_time": "2024-03-15T12:10:08.114473",
     "exception": false,
     "start_time": "2024-03-15T12:10:08.024532",
     "status": "completed"
    },
    "tags": []
   },
   "outputs": [
    {
     "name": "stderr",
     "output_type": "stream",
     "text": [
      "/tmp/ipykernel_18/2689791175.py:2: FutureWarning: Series.__getitem__ treating keys as positions is deprecated. In a future version, integer keys will always be treated as labels (consistent with DataFrame behavior). To access a value by position, use `ser.iloc[pos]`\n",
      "  Age = cols[0]\n",
      "/tmp/ipykernel_18/2689791175.py:3: FutureWarning: Series.__getitem__ treating keys as positions is deprecated. In a future version, integer keys will always be treated as labels (consistent with DataFrame behavior). To access a value by position, use `ser.iloc[pos]`\n",
      "  Pclass = cols[1]\n"
     ]
    }
   ],
   "source": [
    "train['Age'] = train[['Age', 'Pclass']].apply(impute_age,axis=1)"
   ]
  },
  {
   "cell_type": "code",
   "execution_count": 18,
   "id": "47ca7b58",
   "metadata": {
    "execution": {
     "iopub.execute_input": "2024-03-15T12:10:08.170432Z",
     "iopub.status.busy": "2024-03-15T12:10:08.169854Z",
     "iopub.status.idle": "2024-03-15T12:10:08.592007Z",
     "shell.execute_reply": "2024-03-15T12:10:08.590603Z"
    },
    "papermill": {
     "duration": 0.452258,
     "end_time": "2024-03-15T12:10:08.595017",
     "exception": false,
     "start_time": "2024-03-15T12:10:08.142759",
     "status": "completed"
    },
    "tags": []
   },
   "outputs": [
    {
     "data": {
      "text/plain": [
       "<Axes: >"
      ]
     },
     "execution_count": 18,
     "metadata": {},
     "output_type": "execute_result"
    },
    {
     "data": {
      "image/png": "[encoded data removed]",
      "text/plain": [
       "<Figure size 640x480 with 1 Axes>"
      ]
     },
     "metadata": {},
     "output_type": "display_data"
    }
   ],
   "source": [
    "sns.heatmap(train.isnull(),yticklabels = False, cbar=False, cmap='viridis')"
   ]
  },
  {
   "cell_type": "code",
   "execution_count": 19,
   "id": "0121a37f",
   "metadata": {
    "execution": {
     "iopub.execute_input": "2024-03-15T12:10:08.653128Z",
     "iopub.status.busy": "2024-03-15T12:10:08.652336Z",
     "iopub.status.idle": "2024-03-15T12:10:08.660323Z",
     "shell.execute_reply": "2024-03-15T12:10:08.659403Z"
    },
    "papermill": {
     "duration": 0.038222,
     "end_time": "2024-03-15T12:10:08.663151",
     "exception": false,
     "start_time": "2024-03-15T12:10:08.624929",
     "status": "completed"
    },
    "tags": []
   },
   "outputs": [],
   "source": [
    "train.drop('Cabin',axis=1,inplace=True)"
   ]
  },
  {
   "cell_type": "code",
   "execution_count": 20,
   "id": "4f29cbda",
   "metadata": {
    "execution": {
     "iopub.execute_input": "2024-03-15T12:10:08.720106Z",
     "iopub.status.busy": "2024-03-15T12:10:08.719037Z",
     "iopub.status.idle": "2024-03-15T12:10:08.729475Z",
     "shell.execute_reply": "2024-03-15T12:10:08.728262Z"
    },
    "papermill": {
     "duration": 0.042782,
     "end_time": "2024-03-15T12:10:08.731895",
     "exception": false,
     "start_time": "2024-03-15T12:10:08.689113",
     "status": "completed"
    },
    "tags": []
   },
   "outputs": [
    {
     "data": {
      "text/plain": [
       "Embarked\n",
       "S    644\n",
       "C    168\n",
       "Q     77\n",
       "Name: count, dtype: int64"
      ]
     },
     "execution_count": 20,
     "metadata": {},
     "output_type": "execute_result"
    }
   ],
   "source": [
    "train['Embarked'].value_counts()"
   ]
  },
  {
   "cell_type": "code",
   "execution_count": 21,
   "id": "a27e880f",
   "metadata": {
    "execution": {
     "iopub.execute_input": "2024-03-15T12:10:08.785704Z",
     "iopub.status.busy": "2024-03-15T12:10:08.784907Z",
     "iopub.status.idle": "2024-03-15T12:10:08.792653Z",
     "shell.execute_reply": "2024-03-15T12:10:08.791575Z"
    },
    "papermill": {
     "duration": 0.037646,
     "end_time": "2024-03-15T12:10:08.795151",
     "exception": false,
     "start_time": "2024-03-15T12:10:08.757505",
     "status": "completed"
    },
    "tags": []
   },
   "outputs": [
    {
     "name": "stderr",
     "output_type": "stream",
     "text": [
      "/tmp/ipykernel_18/1021043716.py:1: FutureWarning: A value is trying to be set on a copy of a DataFrame or Series through chained assignment using an inplace method.\n",
      "The behavior will change in pandas 3.0. This inplace method will never work because the intermediate object on which we are setting values always behaves as a copy.\n",
      "\n",
      "For example, when doing 'df[col].method(value, inplace=True)', try using 'df.method({col: value}, inplace=True)' or df[col] = df[col].method(value) instead, to perform the operation inplace on the original object.\n",
      "\n",
      "\n",
      "  train['Embarked'].fillna('S', inplace=True)\n"
     ]
    }
   ],
   "source": [
    "train['Embarked'].fillna('S', inplace=True)"
   ]
  },
  {
   "cell_type": "code",
   "execution_count": 22,
   "id": "231d8b5c",
   "metadata": {
    "execution": {
     "iopub.execute_input": "2024-03-15T12:10:08.911017Z",
     "iopub.status.busy": "2024-03-15T12:10:08.910073Z",
     "iopub.status.idle": "2024-03-15T12:10:09.306217Z",
     "shell.execute_reply": "2024-03-15T12:10:09.304919Z"
    },
    "papermill": {
     "duration": 0.426355,
     "end_time": "2024-03-15T12:10:09.308921",
     "exception": false,
     "start_time": "2024-03-15T12:10:08.882566",
     "status": "completed"
    },
    "tags": []
   },
   "outputs": [
    {
     "data": {
      "text/plain": [
       "<Axes: >"
      ]
     },
     "execution_count": 22,
     "metadata": {},
     "output_type": "execute_result"
    },
    {
     "data": {
      "image/png": "[encoded data removed]",
      "text/plain": [
       "<Figure size 640x480 with 1 Axes>"
      ]
     },
     "metadata": {},
     "output_type": "display_data"
    }
   ],
   "source": [
    "sns.heatmap(train.isnull(),yticklabels = False, cbar=False, cmap='viridis')"
   ]
  },
  {
   "cell_type": "code",
   "execution_count": 23,
   "id": "85a2bd39",
   "metadata": {
    "execution": {
     "iopub.execute_input": "2024-03-15T12:10:09.366047Z",
     "iopub.status.busy": "2024-03-15T12:10:09.365643Z",
     "iopub.status.idle": "2024-03-15T12:10:09.373070Z",
     "shell.execute_reply": "2024-03-15T12:10:09.372064Z"
    },
    "papermill": {
     "duration": 0.039716,
     "end_time": "2024-03-15T12:10:09.375635",
     "exception": false,
     "start_time": "2024-03-15T12:10:09.335919",
     "status": "completed"
    },
    "tags": []
   },
   "outputs": [
    {
     "data": {
      "text/plain": [
       "(891, 11)"
      ]
     },
     "execution_count": 23,
     "metadata": {},
     "output_type": "execute_result"
    }
   ],
   "source": [
    "train.shape"
   ]
  },
  {
   "cell_type": "code",
   "execution_count": 24,
   "id": "84b49938",
   "metadata": {
    "execution": {
     "iopub.execute_input": "2024-03-15T12:10:09.434504Z",
     "iopub.status.busy": "2024-03-15T12:10:09.433749Z",
     "iopub.status.idle": "2024-03-15T12:10:09.440419Z",
     "shell.execute_reply": "2024-03-15T12:10:09.439436Z"
    },
    "papermill": {
     "duration": 0.038142,
     "end_time": "2024-03-15T12:10:09.443054",
     "exception": false,
     "start_time": "2024-03-15T12:10:09.404912",
     "status": "completed"
    },
    "tags": []
   },
   "outputs": [],
   "source": [
    "sex = pd.get_dummies(train['Sex'],drop_first=True)"
   ]
  },
  {
   "cell_type": "code",
   "execution_count": 25,
   "id": "0d3eb14d",
   "metadata": {
    "execution": {
     "iopub.execute_input": "2024-03-15T12:10:09.501256Z",
     "iopub.status.busy": "2024-03-15T12:10:09.499877Z",
     "iopub.status.idle": "2024-03-15T12:10:09.506488Z",
     "shell.execute_reply": "2024-03-15T12:10:09.505576Z"
    },
    "papermill": {
     "duration": 0.038315,
     "end_time": "2024-03-15T12:10:09.509060",
     "exception": false,
     "start_time": "2024-03-15T12:10:09.470745",
     "status": "completed"
    },
    "tags": []
   },
   "outputs": [],
   "source": [
    "embark = pd.get_dummies(train['Embarked'],drop_first=True)"
   ]
  },
  {
   "cell_type": "code",
   "execution_count": 26,
   "id": "78c5fdf1",
   "metadata": {
    "execution": {
     "iopub.execute_input": "2024-03-15T12:10:09.566286Z",
     "iopub.status.busy": "2024-03-15T12:10:09.564816Z",
     "iopub.status.idle": "2024-03-15T12:10:09.571941Z",
     "shell.execute_reply": "2024-03-15T12:10:09.570872Z"
    },
    "papermill": {
     "duration": 0.03813,
     "end_time": "2024-03-15T12:10:09.574824",
     "exception": false,
     "start_time": "2024-03-15T12:10:09.536694",
     "status": "completed"
    },
    "tags": []
   },
   "outputs": [],
   "source": [
    "train = pd.concat([train,sex,embark],axis=1)"
   ]
  },
  {
   "cell_type": "code",
   "execution_count": 27,
   "id": "3f891647",
   "metadata": {
    "execution": {
     "iopub.execute_input": "2024-03-15T12:10:09.630433Z",
     "iopub.status.busy": "2024-03-15T12:10:09.629987Z",
     "iopub.status.idle": "2024-03-15T12:10:09.651543Z",
     "shell.execute_reply": "2024-03-15T12:10:09.650279Z"
    },
    "papermill": {
     "duration": 0.052417,
     "end_time": "2024-03-15T12:10:09.654089",
     "exception": false,
     "start_time": "2024-03-15T12:10:09.601672",
     "status": "completed"
    },
    "tags": []
   },
   "outputs": [
    {
     "data": {
      "text/html": [
       "<div>\n",
       "<style scoped>\n",
       "    .dataframe tbody tr th:only-of-type {\n",
       "        vertical-align: middle;\n",
       "    }\n",
       "\n",
       "    .dataframe tbody tr th {\n",
       "        vertical-align: top;\n",
       "    }\n",
       "\n",
       "    .dataframe thead th {\n",
       "        text-align: right;\n",
       "    }\n",
       "</style>\n",
       "<table border=\"1\" class=\"dataframe\">\n",
       "  <thead>\n",
       "    <tr style=\"text-align: right;\">\n",
       "      <th></th>\n",
       "      <th>PassengerId</th>\n",
       "      <th>Survived</th>\n",
       "      <th>Pclass</th>\n",
       "      <th>Name</th>\n",
       "      <th>Sex</th>\n",
       "      <th>Age</th>\n",
       "      <th>SibSp</th>\n",
       "      <th>Parch</th>\n",
       "      <th>Ticket</th>\n",
       "      <th>Fare</th>\n",
       "      <th>Embarked</th>\n",
       "      <th>male</th>\n",
       "      <th>Q</th>\n",
       "      <th>S</th>\n",
       "    </tr>\n",
       "  </thead>\n",
       "  <tbody>\n",
       "    <tr>\n",
       "      <th>0</th>\n",
       "      <td>1</td>\n",
       "      <td>0</td>\n",
       "      <td>3</td>\n",
       "      <td>Braund, Mr. Owen Harris</td>\n",
       "      <td>male</td>\n",
       "      <td>22.0</td>\n",
       "      <td>1</td>\n",
       "      <td>0</td>\n",
       "      <td>A/5 21171</td>\n",
       "      <td>7.2500</td>\n",
       "      <td>S</td>\n",
       "      <td>True</td>\n",
       "      <td>False</td>\n",
       "      <td>True</td>\n",
       "    </tr>\n",
       "    <tr>\n",
       "      <th>1</th>\n",
       "      <td>2</td>\n",
       "      <td>1</td>\n",
       "      <td>1</td>\n",
       "      <td>Cumings, Mrs. John Bradley (Florence Briggs Th...</td>\n",
       "      <td>female</td>\n",
       "      <td>38.0</td>\n",
       "      <td>1</td>\n",
       "      <td>0</td>\n",
       "      <td>PC 17599</td>\n",
       "      <td>71.2833</td>\n",
       "      <td>C</td>\n",
       "      <td>False</td>\n",
       "      <td>False</td>\n",
       "      <td>False</td>\n",
       "    </tr>\n",
       "    <tr>\n",
       "      <th>2</th>\n",
       "      <td>3</td>\n",
       "      <td>1</td>\n",
       "      <td>3</td>\n",
       "      <td>Heikkinen, Miss. Laina</td>\n",
       "      <td>female</td>\n",
       "      <td>26.0</td>\n",
       "      <td>0</td>\n",
       "      <td>0</td>\n",
       "      <td>STON/O2. 3101282</td>\n",
       "      <td>7.9250</td>\n",
       "      <td>S</td>\n",
       "      <td>False</td>\n",
       "      <td>False</td>\n",
       "      <td>True</td>\n",
       "    </tr>\n",
       "    <tr>\n",
       "      <th>3</th>\n",
       "      <td>4</td>\n",
       "      <td>1</td>\n",
       "      <td>1</td>\n",
       "      <td>Futrelle, Mrs. Jacques Heath (Lily May Peel)</td>\n",
       "      <td>female</td>\n",
       "      <td>35.0</td>\n",
       "      <td>1</td>\n",
       "      <td>0</td>\n",
       "      <td>113803</td>\n",
       "      <td>53.1000</td>\n",
       "      <td>S</td>\n",
       "      <td>False</td>\n",
       "      <td>False</td>\n",
       "      <td>True</td>\n",
       "    </tr>\n",
       "    <tr>\n",
       "      <th>4</th>\n",
       "      <td>5</td>\n",
       "      <td>0</td>\n",
       "      <td>3</td>\n",
       "      <td>Allen, Mr. William Henry</td>\n",
       "      <td>male</td>\n",
       "      <td>35.0</td>\n",
       "      <td>0</td>\n",
       "      <td>0</td>\n",
       "      <td>373450</td>\n",
       "      <td>8.0500</td>\n",
       "      <td>S</td>\n",
       "      <td>True</td>\n",
       "      <td>False</td>\n",
       "      <td>True</td>\n",
       "    </tr>\n",
       "  </tbody>\n",
       "</table>\n",
       "</div>"
      ],
      "text/plain": [
       "   PassengerId  Survived  Pclass  \\\n",
       "0            1         0       3   \n",
       "1            2         1       1   \n",
       "2            3         1       3   \n",
       "3            4         1       1   \n",
       "4            5         0       3   \n",
       "\n",
       "                                                Name     Sex   Age  SibSp  \\\n",
       "0                            Braund, Mr. Owen Harris    male  22.0      1   \n",
       "1  Cumings, Mrs. John Bradley (Florence Briggs Th...  female  38.0      1   \n",
       "2                             Heikkinen, Miss. Laina  female  26.0      0   \n",
       "3       Futrelle, Mrs. Jacques Heath (Lily May Peel)  female  35.0      1   \n",
       "4                           Allen, Mr. William Henry    male  35.0      0   \n",
       "\n",
       "   Parch            Ticket     Fare Embarked   male      Q      S  \n",
       "0      0         A/5 21171   7.2500        S   True  False   True  \n",
       "1      0          PC 17599  71.2833        C  False  False  False  \n",
       "2      0  STON/O2. 3101282   7.9250        S  False  False   True  \n",
       "3      0            113803  53.1000        S  False  False   True  \n",
       "4      0            373450   8.0500        S   True  False   True  "
      ]
     },
     "execution_count": 27,
     "metadata": {},
     "output_type": "execute_result"
    }
   ],
   "source": [
    "train.head()"
   ]
  },
  {
   "cell_type": "code",
   "execution_count": 28,
   "id": "af6c42e8",
   "metadata": {
    "execution": {
     "iopub.execute_input": "2024-03-15T12:10:09.711355Z",
     "iopub.status.busy": "2024-03-15T12:10:09.710702Z",
     "iopub.status.idle": "2024-03-15T12:10:09.718740Z",
     "shell.execute_reply": "2024-03-15T12:10:09.717308Z"
    },
    "papermill": {
     "duration": 0.041114,
     "end_time": "2024-03-15T12:10:09.722604",
     "exception": false,
     "start_time": "2024-03-15T12:10:09.681490",
     "status": "completed"
    },
    "tags": []
   },
   "outputs": [],
   "source": [
    "train.drop(columns=['PassengerId','Sex','Embarked','Name','Ticket'],inplace=True)"
   ]
  },
  {
   "cell_type": "code",
   "execution_count": 29,
   "id": "9e3fbac9",
   "metadata": {
    "execution": {
     "iopub.execute_input": "2024-03-15T12:10:09.779317Z",
     "iopub.status.busy": "2024-03-15T12:10:09.778451Z",
     "iopub.status.idle": "2024-03-15T12:10:09.796368Z",
     "shell.execute_reply": "2024-03-15T12:10:09.795229Z"
    },
    "papermill": {
     "duration": 0.049262,
     "end_time": "2024-03-15T12:10:09.799137",
     "exception": false,
     "start_time": "2024-03-15T12:10:09.749875",
     "status": "completed"
    },
    "tags": []
   },
   "outputs": [
    {
     "data": {
      "text/html": [
       "<div>\n",
       "<style scoped>\n",
       "    .dataframe tbody tr th:only-of-type {\n",
       "        vertical-align: middle;\n",
       "    }\n",
       "\n",
       "    .dataframe tbody tr th {\n",
       "        vertical-align: top;\n",
       "    }\n",
       "\n",
       "    .dataframe thead th {\n",
       "        text-align: right;\n",
       "    }\n",
       "</style>\n",
       "<table border=\"1\" class=\"dataframe\">\n",
       "  <thead>\n",
       "    <tr style=\"text-align: right;\">\n",
       "      <th></th>\n",
       "      <th>Survived</th>\n",
       "      <th>Pclass</th>\n",
       "      <th>Age</th>\n",
       "      <th>SibSp</th>\n",
       "      <th>Parch</th>\n",
       "      <th>Fare</th>\n",
       "      <th>male</th>\n",
       "      <th>Q</th>\n",
       "      <th>S</th>\n",
       "    </tr>\n",
       "  </thead>\n",
       "  <tbody>\n",
       "    <tr>\n",
       "      <th>0</th>\n",
       "      <td>0</td>\n",
       "      <td>3</td>\n",
       "      <td>22.0</td>\n",
       "      <td>1</td>\n",
       "      <td>0</td>\n",
       "      <td>7.2500</td>\n",
       "      <td>True</td>\n",
       "      <td>False</td>\n",
       "      <td>True</td>\n",
       "    </tr>\n",
       "    <tr>\n",
       "      <th>1</th>\n",
       "      <td>1</td>\n",
       "      <td>1</td>\n",
       "      <td>38.0</td>\n",
       "      <td>1</td>\n",
       "      <td>0</td>\n",
       "      <td>71.2833</td>\n",
       "      <td>False</td>\n",
       "      <td>False</td>\n",
       "      <td>False</td>\n",
       "    </tr>\n",
       "    <tr>\n",
       "      <th>2</th>\n",
       "      <td>1</td>\n",
       "      <td>3</td>\n",
       "      <td>26.0</td>\n",
       "      <td>0</td>\n",
       "      <td>0</td>\n",
       "      <td>7.9250</td>\n",
       "      <td>False</td>\n",
       "      <td>False</td>\n",
       "      <td>True</td>\n",
       "    </tr>\n",
       "    <tr>\n",
       "      <th>3</th>\n",
       "      <td>1</td>\n",
       "      <td>1</td>\n",
       "      <td>35.0</td>\n",
       "      <td>1</td>\n",
       "      <td>0</td>\n",
       "      <td>53.1000</td>\n",
       "      <td>False</td>\n",
       "      <td>False</td>\n",
       "      <td>True</td>\n",
       "    </tr>\n",
       "    <tr>\n",
       "      <th>4</th>\n",
       "      <td>0</td>\n",
       "      <td>3</td>\n",
       "      <td>35.0</td>\n",
       "      <td>0</td>\n",
       "      <td>0</td>\n",
       "      <td>8.0500</td>\n",
       "      <td>True</td>\n",
       "      <td>False</td>\n",
       "      <td>True</td>\n",
       "    </tr>\n",
       "  </tbody>\n",
       "</table>\n",
       "</div>"
      ],
      "text/plain": [
       "   Survived  Pclass   Age  SibSp  Parch     Fare   male      Q      S\n",
       "0         0       3  22.0      1      0   7.2500   True  False   True\n",
       "1         1       1  38.0      1      0  71.2833  False  False  False\n",
       "2         1       3  26.0      0      0   7.9250  False  False   True\n",
       "3         1       1  35.0      1      0  53.1000  False  False   True\n",
       "4         0       3  35.0      0      0   8.0500   True  False   True"
      ]
     },
     "execution_count": 29,
     "metadata": {},
     "output_type": "execute_result"
    }
   ],
   "source": [
    "train.head()"
   ]
  },
  {
   "cell_type": "code",
   "execution_count": 30,
   "id": "bc8f97dd",
   "metadata": {
    "execution": {
     "iopub.execute_input": "2024-03-15T12:10:09.856446Z",
     "iopub.status.busy": "2024-03-15T12:10:09.855869Z",
     "iopub.status.idle": "2024-03-15T12:10:09.873327Z",
     "shell.execute_reply": "2024-03-15T12:10:09.872113Z"
    },
    "papermill": {
     "duration": 0.049374,
     "end_time": "2024-03-15T12:10:09.876062",
     "exception": false,
     "start_time": "2024-03-15T12:10:09.826688",
     "status": "completed"
    },
    "tags": []
   },
   "outputs": [
    {
     "data": {
      "text/html": [
       "<div>\n",
       "<style scoped>\n",
       "    .dataframe tbody tr th:only-of-type {\n",
       "        vertical-align: middle;\n",
       "    }\n",
       "\n",
       "    .dataframe tbody tr th {\n",
       "        vertical-align: top;\n",
       "    }\n",
       "\n",
       "    .dataframe thead th {\n",
       "        text-align: right;\n",
       "    }\n",
       "</style>\n",
       "<table border=\"1\" class=\"dataframe\">\n",
       "  <thead>\n",
       "    <tr style=\"text-align: right;\">\n",
       "      <th></th>\n",
       "      <th>PassengerId</th>\n",
       "      <th>Pclass</th>\n",
       "      <th>Name</th>\n",
       "      <th>Sex</th>\n",
       "      <th>Age</th>\n",
       "      <th>SibSp</th>\n",
       "      <th>Parch</th>\n",
       "      <th>Ticket</th>\n",
       "      <th>Fare</th>\n",
       "      <th>Cabin</th>\n",
       "      <th>Embarked</th>\n",
       "    </tr>\n",
       "  </thead>\n",
       "  <tbody>\n",
       "    <tr>\n",
       "      <th>0</th>\n",
       "      <td>892</td>\n",
       "      <td>3</td>\n",
       "      <td>Kelly, Mr. James</td>\n",
       "      <td>male</td>\n",
       "      <td>34.5</td>\n",
       "      <td>0</td>\n",
       "      <td>0</td>\n",
       "      <td>330911</td>\n",
       "      <td>7.8292</td>\n",
       "      <td>NaN</td>\n",
       "      <td>Q</td>\n",
       "    </tr>\n",
       "    <tr>\n",
       "      <th>1</th>\n",
       "      <td>893</td>\n",
       "      <td>3</td>\n",
       "      <td>Wilkes, Mrs. James (Ellen Needs)</td>\n",
       "      <td>female</td>\n",
       "      <td>47.0</td>\n",
       "      <td>1</td>\n",
       "      <td>0</td>\n",
       "      <td>363272</td>\n",
       "      <td>7.0000</td>\n",
       "      <td>NaN</td>\n",
       "      <td>S</td>\n",
       "    </tr>\n",
       "    <tr>\n",
       "      <th>2</th>\n",
       "      <td>894</td>\n",
       "      <td>2</td>\n",
       "      <td>Myles, Mr. Thomas Francis</td>\n",
       "      <td>male</td>\n",
       "      <td>62.0</td>\n",
       "      <td>0</td>\n",
       "      <td>0</td>\n",
       "      <td>240276</td>\n",
       "      <td>9.6875</td>\n",
       "      <td>NaN</td>\n",
       "      <td>Q</td>\n",
       "    </tr>\n",
       "    <tr>\n",
       "      <th>3</th>\n",
       "      <td>895</td>\n",
       "      <td>3</td>\n",
       "      <td>Wirz, Mr. Albert</td>\n",
       "      <td>male</td>\n",
       "      <td>27.0</td>\n",
       "      <td>0</td>\n",
       "      <td>0</td>\n",
       "      <td>315154</td>\n",
       "      <td>8.6625</td>\n",
       "      <td>NaN</td>\n",
       "      <td>S</td>\n",
       "    </tr>\n",
       "    <tr>\n",
       "      <th>4</th>\n",
       "      <td>896</td>\n",
       "      <td>3</td>\n",
       "      <td>Hirvonen, Mrs. Alexander (Helga E Lindqvist)</td>\n",
       "      <td>female</td>\n",
       "      <td>22.0</td>\n",
       "      <td>1</td>\n",
       "      <td>1</td>\n",
       "      <td>3101298</td>\n",
       "      <td>12.2875</td>\n",
       "      <td>NaN</td>\n",
       "      <td>S</td>\n",
       "    </tr>\n",
       "  </tbody>\n",
       "</table>\n",
       "</div>"
      ],
      "text/plain": [
       "   PassengerId  Pclass                                          Name     Sex  \\\n",
       "0          892       3                              Kelly, Mr. James    male   \n",
       "1          893       3              Wilkes, Mrs. James (Ellen Needs)  female   \n",
       "2          894       2                     Myles, Mr. Thomas Francis    male   \n",
       "3          895       3                              Wirz, Mr. Albert    male   \n",
       "4          896       3  Hirvonen, Mrs. Alexander (Helga E Lindqvist)  female   \n",
       "\n",
       "    Age  SibSp  Parch   Ticket     Fare Cabin Embarked  \n",
       "0  34.5      0      0   330911   7.8292   NaN        Q  \n",
       "1  47.0      1      0   363272   7.0000   NaN        S  \n",
       "2  62.0      0      0   240276   9.6875   NaN        Q  \n",
       "3  27.0      0      0   315154   8.6625   NaN        S  \n",
       "4  22.0      1      1  3101298  12.2875   NaN        S  "
      ]
     },
     "execution_count": 30,
     "metadata": {},
     "output_type": "execute_result"
    }
   ],
   "source": [
    "test.head()"
   ]
  },
  {
   "cell_type": "code",
   "execution_count": 31,
   "id": "304849a4",
   "metadata": {
    "execution": {
     "iopub.execute_input": "2024-03-15T12:10:09.933367Z",
     "iopub.status.busy": "2024-03-15T12:10:09.932929Z",
     "iopub.status.idle": "2024-03-15T12:10:09.939528Z",
     "shell.execute_reply": "2024-03-15T12:10:09.938595Z"
    },
    "papermill": {
     "duration": 0.03861,
     "end_time": "2024-03-15T12:10:09.942237",
     "exception": false,
     "start_time": "2024-03-15T12:10:09.903627",
     "status": "completed"
    },
    "tags": []
   },
   "outputs": [
    {
     "data": {
      "text/plain": [
       "(418, 11)"
      ]
     },
     "execution_count": 31,
     "metadata": {},
     "output_type": "execute_result"
    }
   ],
   "source": [
    "test.shape"
   ]
  },
  {
   "cell_type": "code",
   "execution_count": 32,
   "id": "6b41d04b",
   "metadata": {
    "execution": {
     "iopub.execute_input": "2024-03-15T12:10:10.004492Z",
     "iopub.status.busy": "2024-03-15T12:10:10.002977Z",
     "iopub.status.idle": "2024-03-15T12:10:10.016775Z",
     "shell.execute_reply": "2024-03-15T12:10:10.015084Z"
    },
    "papermill": {
     "duration": 0.047578,
     "end_time": "2024-03-15T12:10:10.019824",
     "exception": false,
     "start_time": "2024-03-15T12:10:09.972246",
     "status": "completed"
    },
    "tags": []
   },
   "outputs": [
    {
     "name": "stdout",
     "output_type": "stream",
     "text": [
      "<class 'pandas.core.frame.DataFrame'>\n",
      "RangeIndex: 418 entries, 0 to 417\n",
      "Data columns (total 11 columns):\n",
      " #   Column       Non-Null Count  Dtype  \n",
      "---  ------       --------------  -----  \n",
      " 0   PassengerId  418 non-null    int64  \n",
      " 1   Pclass       418 non-null    int64  \n",
      " 2   Name         418 non-null    object \n",
      " 3   Sex          418 non-null    object \n",
      " 4   Age          332 non-null    float64\n",
      " 5   SibSp        418 non-null    int64  \n",
      " 6   Parch        418 non-null    int64  \n",
      " 7   Ticket       418 non-null    object \n",
      " 8   Fare         417 non-null    float64\n",
      " 9   Cabin        91 non-null     object \n",
      " 10  Embarked     418 non-null    object \n",
      "dtypes: float64(2), int64(4), object(5)\n",
      "memory usage: 36.0+ KB\n"
     ]
    }
   ],
   "source": [
    "test.info()"
   ]
  },
  {
   "cell_type": "code",
   "execution_count": 33,
   "id": "64619098",
   "metadata": {
    "execution": {
     "iopub.execute_input": "2024-03-15T12:10:10.079879Z",
     "iopub.status.busy": "2024-03-15T12:10:10.078663Z",
     "iopub.status.idle": "2024-03-15T12:10:10.089713Z",
     "shell.execute_reply": "2024-03-15T12:10:10.088233Z"
    },
    "papermill": {
     "duration": 0.044145,
     "end_time": "2024-03-15T12:10:10.092527",
     "exception": false,
     "start_time": "2024-03-15T12:10:10.048382",
     "status": "completed"
    },
    "tags": []
   },
   "outputs": [
    {
     "data": {
      "text/plain": [
       "PassengerId      0\n",
       "Pclass           0\n",
       "Name             0\n",
       "Sex              0\n",
       "Age             86\n",
       "SibSp            0\n",
       "Parch            0\n",
       "Ticket           0\n",
       "Fare             1\n",
       "Cabin          327\n",
       "Embarked         0\n",
       "dtype: int64"
      ]
     },
     "execution_count": 33,
     "metadata": {},
     "output_type": "execute_result"
    }
   ],
   "source": [
    "test.isnull().sum()"
   ]
  },
  {
   "cell_type": "code",
   "execution_count": 34,
   "id": "bbcf6ea9",
   "metadata": {
    "execution": {
     "iopub.execute_input": "2024-03-15T12:10:10.151243Z",
     "iopub.status.busy": "2024-03-15T12:10:10.150782Z",
     "iopub.status.idle": "2024-03-15T12:10:10.550413Z",
     "shell.execute_reply": "2024-03-15T12:10:10.548948Z"
    },
    "papermill": {
     "duration": 0.432189,
     "end_time": "2024-03-15T12:10:10.553084",
     "exception": false,
     "start_time": "2024-03-15T12:10:10.120895",
     "status": "completed"
    },
    "tags": []
   },
   "outputs": [
    {
     "data": {
      "text/plain": [
       "<Axes: >"
      ]
     },
     "execution_count": 34,
     "metadata": {},
     "output_type": "execute_result"
    },
    {
     "data": {
      "image/png": "[encoded data removed]",
      "text/plain": [
       "<Figure size 640x480 with 1 Axes>"
      ]
     },
     "metadata": {},
     "output_type": "display_data"
    }
   ],
   "source": [
    "sns.heatmap(test.isnull(),yticklabels = False, cbar=False, cmap='viridis')"
   ]
  },
  {
   "cell_type": "code",
   "execution_count": 35,
   "id": "245b318c",
   "metadata": {
    "execution": {
     "iopub.execute_input": "2024-03-15T12:10:10.611688Z",
     "iopub.status.busy": "2024-03-15T12:10:10.611278Z",
     "iopub.status.idle": "2024-03-15T12:10:10.962878Z",
     "shell.execute_reply": "2024-03-15T12:10:10.961706Z"
    },
    "papermill": {
     "duration": 0.384181,
     "end_time": "2024-03-15T12:10:10.965534",
     "exception": false,
     "start_time": "2024-03-15T12:10:10.581353",
     "status": "completed"
    },
    "tags": []
   },
   "outputs": [
    {
     "data": {
      "text/plain": [
       "<Axes: xlabel='Pclass', ylabel='Age'>"
      ]
     },
     "execution_count": 35,
     "metadata": {},
     "output_type": "execute_result"
    },
    {
     "data": {
      "image/png": "[encoded data removed]",
      "text/plain": [
       "<Figure size 1000x700 with 1 Axes>"
      ]
     },
     "metadata": {},
     "output_type": "display_data"
    }
   ],
   "source": [
    "plt.figure(figsize=(10,7))\n",
    "sns.boxplot(x='Pclass', y='Age', data=test)"
   ]
  },
  {
   "cell_type": "code",
   "execution_count": 36,
   "id": "a384ed2c",
   "metadata": {
    "execution": {
     "iopub.execute_input": "2024-03-15T12:10:11.025323Z",
     "iopub.status.busy": "2024-03-15T12:10:11.024656Z",
     "iopub.status.idle": "2024-03-15T12:10:11.031957Z",
     "shell.execute_reply": "2024-03-15T12:10:11.030916Z"
    },
    "papermill": {
     "duration": 0.040604,
     "end_time": "2024-03-15T12:10:11.034731",
     "exception": false,
     "start_time": "2024-03-15T12:10:10.994127",
     "status": "completed"
    },
    "tags": []
   },
   "outputs": [],
   "source": [
    "def impute_age(cols):\n",
    "    Age = cols[0]\n",
    "    Pclass = cols[1]\n",
    "\n",
    "    if pd.isnull(Age):\n",
    "        if Pclass==1:\n",
    "            return 43\n",
    "        elif Pclass==2:\n",
    "            return 26\n",
    "        else:\n",
    "            return 24\n",
    "    else:\n",
    "        return Age"
   ]
  },
  {
   "cell_type": "code",
   "execution_count": 37,
   "id": "e136f085",
   "metadata": {
    "execution": {
     "iopub.execute_input": "2024-03-15T12:10:11.095863Z",
     "iopub.status.busy": "2024-03-15T12:10:11.095109Z",
     "iopub.status.idle": "2024-03-15T12:10:11.126753Z",
     "shell.execute_reply": "2024-03-15T12:10:11.125561Z"
    },
    "papermill": {
     "duration": 0.066126,
     "end_time": "2024-03-15T12:10:11.129715",
     "exception": false,
     "start_time": "2024-03-15T12:10:11.063589",
     "status": "completed"
    },
    "tags": []
   },
   "outputs": [
    {
     "name": "stderr",
     "output_type": "stream",
     "text": [
      "/tmp/ipykernel_18/622354566.py:2: FutureWarning: Series.__getitem__ treating keys as positions is deprecated. In a future version, integer keys will always be treated as labels (consistent with DataFrame behavior). To access a value by position, use `ser.iloc[pos]`\n",
      "  Age = cols[0]\n",
      "/tmp/ipykernel_18/622354566.py:3: FutureWarning: Series.__getitem__ treating keys as positions is deprecated. In a future version, integer keys will always be treated as labels (consistent with DataFrame behavior). To access a value by position, use `ser.iloc[pos]`\n",
      "  Pclass = cols[1]\n"
     ]
    }
   ],
   "source": [
    "test['Age'] = test[['Age', 'Pclass']].apply(impute_age,axis=1)"
   ]
  },
  {
   "cell_type": "code",
   "execution_count": 38,
   "id": "56774a55",
   "metadata": {
    "execution": {
     "iopub.execute_input": "2024-03-15T12:10:11.191527Z",
     "iopub.status.busy": "2024-03-15T12:10:11.190508Z",
     "iopub.status.idle": "2024-03-15T12:10:11.596957Z",
     "shell.execute_reply": "2024-03-15T12:10:11.595560Z"
    },
    "papermill": {
     "duration": 0.440142,
     "end_time": "2024-03-15T12:10:11.599806",
     "exception": false,
     "start_time": "2024-03-15T12:10:11.159664",
     "status": "completed"
    },
    "tags": []
   },
   "outputs": [
    {
     "data": {
      "text/plain": [
       "<Axes: >"
      ]
     },
     "execution_count": 38,
     "metadata": {},
     "output_type": "execute_result"
    },
    {
     "data": {
      "image/png": "[encoded data removed]",
      "text/plain": [
       "<Figure size 640x480 with 1 Axes>"
      ]
     },
     "metadata": {},
     "output_type": "display_data"
    }
   ],
   "source": [
    "sns.heatmap(test.isnull(),yticklabels = False, cbar=False, cmap='viridis')"
   ]
  },
  {
   "cell_type": "code",
   "execution_count": 39,
   "id": "e23a005a",
   "metadata": {
    "execution": {
     "iopub.execute_input": "2024-03-15T12:10:11.666047Z",
     "iopub.status.busy": "2024-03-15T12:10:11.665414Z",
     "iopub.status.idle": "2024-03-15T12:10:11.672700Z",
     "shell.execute_reply": "2024-03-15T12:10:11.671585Z"
    },
    "papermill": {
     "duration": 0.04484,
     "end_time": "2024-03-15T12:10:11.675229",
     "exception": false,
     "start_time": "2024-03-15T12:10:11.630389",
     "status": "completed"
    },
    "tags": []
   },
   "outputs": [],
   "source": [
    "test.drop('Cabin',axis=1,inplace=True)"
   ]
  },
  {
   "cell_type": "code",
   "execution_count": 40,
   "id": "b90ad11b",
   "metadata": {
    "execution": {
     "iopub.execute_input": "2024-03-15T12:10:11.739059Z",
     "iopub.status.busy": "2024-03-15T12:10:11.738283Z",
     "iopub.status.idle": "2024-03-15T12:10:11.745146Z",
     "shell.execute_reply": "2024-03-15T12:10:11.744000Z"
    },
    "papermill": {
     "duration": 0.043207,
     "end_time": "2024-03-15T12:10:11.748132",
     "exception": false,
     "start_time": "2024-03-15T12:10:11.704925",
     "status": "completed"
    },
    "tags": []
   },
   "outputs": [
    {
     "name": "stderr",
     "output_type": "stream",
     "text": [
      "/tmp/ipykernel_18/4105841904.py:1: FutureWarning: A value is trying to be set on a copy of a DataFrame or Series through chained assignment using an inplace method.\n",
      "The behavior will change in pandas 3.0. This inplace method will never work because the intermediate object on which we are setting values always behaves as a copy.\n",
      "\n",
      "For example, when doing 'df[col].method(value, inplace=True)', try using 'df.method({col: value}, inplace=True)' or df[col] = df[col].method(value) instead, to perform the operation inplace on the original object.\n",
      "\n",
      "\n",
      "  test['Fare'].fillna(test['Fare'].mean(), inplace=True)\n"
     ]
    }
   ],
   "source": [
    "test['Fare'].fillna(test['Fare'].mean(), inplace=True)"
   ]
  },
  {
   "cell_type": "code",
   "execution_count": 41,
   "id": "76d341a2",
   "metadata": {
    "execution": {
     "iopub.execute_input": "2024-03-15T12:10:11.811553Z",
     "iopub.status.busy": "2024-03-15T12:10:11.810872Z",
     "iopub.status.idle": "2024-03-15T12:10:12.180248Z",
     "shell.execute_reply": "2024-03-15T12:10:12.178854Z"
    },
    "papermill": {
     "duration": 0.405609,
     "end_time": "2024-03-15T12:10:12.183480",
     "exception": false,
     "start_time": "2024-03-15T12:10:11.777871",
     "status": "completed"
    },
    "tags": []
   },
   "outputs": [
    {
     "data": {
      "text/plain": [
       "<Axes: >"
      ]
     },
     "execution_count": 41,
     "metadata": {},
     "output_type": "execute_result"
    },
    {
     "data": {
      "image/png": "[encoded data removed]",
      "text/plain": [
       "<Figure size 640x480 with 1 Axes>"
      ]
     },
     "metadata": {},
     "output_type": "display_data"
    }
   ],
   "source": [
    "sns.heatmap(test.isnull(),yticklabels = False, cbar=False, cmap='viridis')"
   ]
  },
  {
   "cell_type": "code",
   "execution_count": 42,
   "id": "eaec654b",
   "metadata": {
    "execution": {
     "iopub.execute_input": "2024-03-15T12:10:12.245689Z",
     "iopub.status.busy": "2024-03-15T12:10:12.245294Z",
     "iopub.status.idle": "2024-03-15T12:10:12.264010Z",
     "shell.execute_reply": "2024-03-15T12:10:12.262712Z"
    },
    "papermill": {
     "duration": 0.053187,
     "end_time": "2024-03-15T12:10:12.266789",
     "exception": false,
     "start_time": "2024-03-15T12:10:12.213602",
     "status": "completed"
    },
    "tags": []
   },
   "outputs": [
    {
     "data": {
      "text/html": [
       "<div>\n",
       "<style scoped>\n",
       "    .dataframe tbody tr th:only-of-type {\n",
       "        vertical-align: middle;\n",
       "    }\n",
       "\n",
       "    .dataframe tbody tr th {\n",
       "        vertical-align: top;\n",
       "    }\n",
       "\n",
       "    .dataframe thead th {\n",
       "        text-align: right;\n",
       "    }\n",
       "</style>\n",
       "<table border=\"1\" class=\"dataframe\">\n",
       "  <thead>\n",
       "    <tr style=\"text-align: right;\">\n",
       "      <th></th>\n",
       "      <th>PassengerId</th>\n",
       "      <th>Pclass</th>\n",
       "      <th>Name</th>\n",
       "      <th>Sex</th>\n",
       "      <th>Age</th>\n",
       "      <th>SibSp</th>\n",
       "      <th>Parch</th>\n",
       "      <th>Ticket</th>\n",
       "      <th>Fare</th>\n",
       "      <th>Embarked</th>\n",
       "    </tr>\n",
       "  </thead>\n",
       "  <tbody>\n",
       "    <tr>\n",
       "      <th>0</th>\n",
       "      <td>892</td>\n",
       "      <td>3</td>\n",
       "      <td>Kelly, Mr. James</td>\n",
       "      <td>male</td>\n",
       "      <td>34.5</td>\n",
       "      <td>0</td>\n",
       "      <td>0</td>\n",
       "      <td>330911</td>\n",
       "      <td>7.8292</td>\n",
       "      <td>Q</td>\n",
       "    </tr>\n",
       "    <tr>\n",
       "      <th>1</th>\n",
       "      <td>893</td>\n",
       "      <td>3</td>\n",
       "      <td>Wilkes, Mrs. James (Ellen Needs)</td>\n",
       "      <td>female</td>\n",
       "      <td>47.0</td>\n",
       "      <td>1</td>\n",
       "      <td>0</td>\n",
       "      <td>363272</td>\n",
       "      <td>7.0000</td>\n",
       "      <td>S</td>\n",
       "    </tr>\n",
       "    <tr>\n",
       "      <th>2</th>\n",
       "      <td>894</td>\n",
       "      <td>2</td>\n",
       "      <td>Myles, Mr. Thomas Francis</td>\n",
       "      <td>male</td>\n",
       "      <td>62.0</td>\n",
       "      <td>0</td>\n",
       "      <td>0</td>\n",
       "      <td>240276</td>\n",
       "      <td>9.6875</td>\n",
       "      <td>Q</td>\n",
       "    </tr>\n",
       "    <tr>\n",
       "      <th>3</th>\n",
       "      <td>895</td>\n",
       "      <td>3</td>\n",
       "      <td>Wirz, Mr. Albert</td>\n",
       "      <td>male</td>\n",
       "      <td>27.0</td>\n",
       "      <td>0</td>\n",
       "      <td>0</td>\n",
       "      <td>315154</td>\n",
       "      <td>8.6625</td>\n",
       "      <td>S</td>\n",
       "    </tr>\n",
       "    <tr>\n",
       "      <th>4</th>\n",
       "      <td>896</td>\n",
       "      <td>3</td>\n",
       "      <td>Hirvonen, Mrs. Alexander (Helga E Lindqvist)</td>\n",
       "      <td>female</td>\n",
       "      <td>22.0</td>\n",
       "      <td>1</td>\n",
       "      <td>1</td>\n",
       "      <td>3101298</td>\n",
       "      <td>12.2875</td>\n",
       "      <td>S</td>\n",
       "    </tr>\n",
       "  </tbody>\n",
       "</table>\n",
       "</div>"
      ],
      "text/plain": [
       "   PassengerId  Pclass                                          Name     Sex  \\\n",
       "0          892       3                              Kelly, Mr. James    male   \n",
       "1          893       3              Wilkes, Mrs. James (Ellen Needs)  female   \n",
       "2          894       2                     Myles, Mr. Thomas Francis    male   \n",
       "3          895       3                              Wirz, Mr. Albert    male   \n",
       "4          896       3  Hirvonen, Mrs. Alexander (Helga E Lindqvist)  female   \n",
       "\n",
       "    Age  SibSp  Parch   Ticket     Fare Embarked  \n",
       "0  34.5      0      0   330911   7.8292        Q  \n",
       "1  47.0      1      0   363272   7.0000        S  \n",
       "2  62.0      0      0   240276   9.6875        Q  \n",
       "3  27.0      0      0   315154   8.6625        S  \n",
       "4  22.0      1      1  3101298  12.2875        S  "
      ]
     },
     "execution_count": 42,
     "metadata": {},
     "output_type": "execute_result"
    }
   ],
   "source": [
    "test.head()"
   ]
  },
  {
   "cell_type": "code",
   "execution_count": 43,
   "id": "0c810cb5",
   "metadata": {
    "execution": {
     "iopub.execute_input": "2024-03-15T12:10:12.331626Z",
     "iopub.status.busy": "2024-03-15T12:10:12.330890Z",
     "iopub.status.idle": "2024-03-15T12:10:12.337440Z",
     "shell.execute_reply": "2024-03-15T12:10:12.336463Z"
    },
    "papermill": {
     "duration": 0.041554,
     "end_time": "2024-03-15T12:10:12.340043",
     "exception": false,
     "start_time": "2024-03-15T12:10:12.298489",
     "status": "completed"
    },
    "tags": []
   },
   "outputs": [],
   "source": [
    "sex = pd.get_dummies(test['Sex'],drop_first=True)"
   ]
  },
  {
   "cell_type": "code",
   "execution_count": 44,
   "id": "f1e824a1",
   "metadata": {
    "execution": {
     "iopub.execute_input": "2024-03-15T12:10:12.405713Z",
     "iopub.status.busy": "2024-03-15T12:10:12.404776Z",
     "iopub.status.idle": "2024-03-15T12:10:12.412094Z",
     "shell.execute_reply": "2024-03-15T12:10:12.411070Z"
    },
    "papermill": {
     "duration": 0.043779,
     "end_time": "2024-03-15T12:10:12.414775",
     "exception": false,
     "start_time": "2024-03-15T12:10:12.370996",
     "status": "completed"
    },
    "tags": []
   },
   "outputs": [],
   "source": [
    "embark = pd.get_dummies(test['Embarked'],drop_first=True)"
   ]
  },
  {
   "cell_type": "code",
   "execution_count": 45,
   "id": "c65581cd",
   "metadata": {
    "execution": {
     "iopub.execute_input": "2024-03-15T12:10:12.479521Z",
     "iopub.status.busy": "2024-03-15T12:10:12.478669Z",
     "iopub.status.idle": "2024-03-15T12:10:12.485919Z",
     "shell.execute_reply": "2024-03-15T12:10:12.484764Z"
    },
    "papermill": {
     "duration": 0.04223,
     "end_time": "2024-03-15T12:10:12.488756",
     "exception": false,
     "start_time": "2024-03-15T12:10:12.446526",
     "status": "completed"
    },
    "tags": []
   },
   "outputs": [],
   "source": [
    "test = pd.concat([test,sex,embark],axis=1)"
   ]
  },
  {
   "cell_type": "code",
   "execution_count": 46,
   "id": "6677bc58",
   "metadata": {
    "execution": {
     "iopub.execute_input": "2024-03-15T12:10:12.552594Z",
     "iopub.status.busy": "2024-03-15T12:10:12.551420Z",
     "iopub.status.idle": "2024-03-15T12:10:12.556605Z",
     "shell.execute_reply": "2024-03-15T12:10:12.555757Z"
    },
    "papermill": {
     "duration": 0.039351,
     "end_time": "2024-03-15T12:10:12.559070",
     "exception": false,
     "start_time": "2024-03-15T12:10:12.519719",
     "status": "completed"
    },
    "tags": []
   },
   "outputs": [],
   "source": [
    "passenger_id=test['PassengerId'].values"
   ]
  },
  {
   "cell_type": "code",
   "execution_count": 47,
   "id": "d6a26a95",
   "metadata": {
    "execution": {
     "iopub.execute_input": "2024-03-15T12:10:12.622375Z",
     "iopub.status.busy": "2024-03-15T12:10:12.621906Z",
     "iopub.status.idle": "2024-03-15T12:10:12.629075Z",
     "shell.execute_reply": "2024-03-15T12:10:12.627592Z"
    },
    "papermill": {
     "duration": 0.042228,
     "end_time": "2024-03-15T12:10:12.631676",
     "exception": false,
     "start_time": "2024-03-15T12:10:12.589448",
     "status": "completed"
    },
    "tags": []
   },
   "outputs": [],
   "source": [
    "test.drop(columns=['PassengerId','Sex','Embarked','Name','Ticket'],inplace=True)"
   ]
  },
  {
   "cell_type": "code",
   "execution_count": 48,
   "id": "009dd1f9",
   "metadata": {
    "execution": {
     "iopub.execute_input": "2024-03-15T12:10:12.696797Z",
     "iopub.status.busy": "2024-03-15T12:10:12.696408Z",
     "iopub.status.idle": "2024-03-15T12:10:12.714118Z",
     "shell.execute_reply": "2024-03-15T12:10:12.712846Z"
    },
    "papermill": {
     "duration": 0.054026,
     "end_time": "2024-03-15T12:10:12.717076",
     "exception": false,
     "start_time": "2024-03-15T12:10:12.663050",
     "status": "completed"
    },
    "tags": []
   },
   "outputs": [
    {
     "data": {
      "text/html": [
       "<div>\n",
       "<style scoped>\n",
       "    .dataframe tbody tr th:only-of-type {\n",
       "        vertical-align: middle;\n",
       "    }\n",
       "\n",
       "    .dataframe tbody tr th {\n",
       "        vertical-align: top;\n",
       "    }\n",
       "\n",
       "    .dataframe thead th {\n",
       "        text-align: right;\n",
       "    }\n",
       "</style>\n",
       "<table border=\"1\" class=\"dataframe\">\n",
       "  <thead>\n",
       "    <tr style=\"text-align: right;\">\n",
       "      <th></th>\n",
       "      <th>Pclass</th>\n",
       "      <th>Age</th>\n",
       "      <th>SibSp</th>\n",
       "      <th>Parch</th>\n",
       "      <th>Fare</th>\n",
       "      <th>male</th>\n",
       "      <th>Q</th>\n",
       "      <th>S</th>\n",
       "    </tr>\n",
       "  </thead>\n",
       "  <tbody>\n",
       "    <tr>\n",
       "      <th>0</th>\n",
       "      <td>3</td>\n",
       "      <td>34.5</td>\n",
       "      <td>0</td>\n",
       "      <td>0</td>\n",
       "      <td>7.8292</td>\n",
       "      <td>True</td>\n",
       "      <td>True</td>\n",
       "      <td>False</td>\n",
       "    </tr>\n",
       "    <tr>\n",
       "      <th>1</th>\n",
       "      <td>3</td>\n",
       "      <td>47.0</td>\n",
       "      <td>1</td>\n",
       "      <td>0</td>\n",
       "      <td>7.0000</td>\n",
       "      <td>False</td>\n",
       "      <td>False</td>\n",
       "      <td>True</td>\n",
       "    </tr>\n",
       "    <tr>\n",
       "      <th>2</th>\n",
       "      <td>2</td>\n",
       "      <td>62.0</td>\n",
       "      <td>0</td>\n",
       "      <td>0</td>\n",
       "      <td>9.6875</td>\n",
       "      <td>True</td>\n",
       "      <td>True</td>\n",
       "      <td>False</td>\n",
       "    </tr>\n",
       "    <tr>\n",
       "      <th>3</th>\n",
       "      <td>3</td>\n",
       "      <td>27.0</td>\n",
       "      <td>0</td>\n",
       "      <td>0</td>\n",
       "      <td>8.6625</td>\n",
       "      <td>True</td>\n",
       "      <td>False</td>\n",
       "      <td>True</td>\n",
       "    </tr>\n",
       "    <tr>\n",
       "      <th>4</th>\n",
       "      <td>3</td>\n",
       "      <td>22.0</td>\n",
       "      <td>1</td>\n",
       "      <td>1</td>\n",
       "      <td>12.2875</td>\n",
       "      <td>False</td>\n",
       "      <td>False</td>\n",
       "      <td>True</td>\n",
       "    </tr>\n",
       "  </tbody>\n",
       "</table>\n",
       "</div>"
      ],
      "text/plain": [
       "   Pclass   Age  SibSp  Parch     Fare   male      Q      S\n",
       "0       3  34.5      0      0   7.8292   True   True  False\n",
       "1       3  47.0      1      0   7.0000  False  False   True\n",
       "2       2  62.0      0      0   9.6875   True   True  False\n",
       "3       3  27.0      0      0   8.6625   True  False   True\n",
       "4       3  22.0      1      1  12.2875  False  False   True"
      ]
     },
     "execution_count": 48,
     "metadata": {},
     "output_type": "execute_result"
    }
   ],
   "source": [
    "test.head()"
   ]
  },
  {
   "cell_type": "code",
   "execution_count": 49,
   "id": "40dad569",
   "metadata": {
    "execution": {
     "iopub.execute_input": "2024-03-15T12:10:12.782362Z",
     "iopub.status.busy": "2024-03-15T12:10:12.781928Z",
     "iopub.status.idle": "2024-03-15T12:10:12.789608Z",
     "shell.execute_reply": "2024-03-15T12:10:12.788071Z"
    },
    "papermill": {
     "duration": 0.042202,
     "end_time": "2024-03-15T12:10:12.792036",
     "exception": false,
     "start_time": "2024-03-15T12:10:12.749834",
     "status": "completed"
    },
    "tags": []
   },
   "outputs": [],
   "source": [
    "X = train.drop('Survived',axis=1)\n",
    "y = train['Survived']"
   ]
  },
  {
   "cell_type": "code",
   "execution_count": 50,
   "id": "e8fb78f8",
   "metadata": {
    "execution": {
     "iopub.execute_input": "2024-03-15T12:10:12.858510Z",
     "iopub.status.busy": "2024-03-15T12:10:12.857024Z",
     "iopub.status.idle": "2024-03-15T12:10:13.227415Z",
     "shell.execute_reply": "2024-03-15T12:10:13.226173Z"
    },
    "papermill": {
     "duration": 0.406107,
     "end_time": "2024-03-15T12:10:13.230262",
     "exception": false,
     "start_time": "2024-03-15T12:10:12.824155",
     "status": "completed"
    },
    "tags": []
   },
   "outputs": [],
   "source": [
    "from sklearn.model_selection import train_test_split\n",
    "X_train, X_test, y_train, y_test = train_test_split(X, y, test_size=0.3, random_state=101)"
   ]
  },
  {
   "cell_type": "code",
   "execution_count": 51,
   "id": "76200e1c",
   "metadata": {
    "execution": {
     "iopub.execute_input": "2024-03-15T12:10:13.295975Z",
     "iopub.status.busy": "2024-03-15T12:10:13.295466Z",
     "iopub.status.idle": "2024-03-15T12:10:13.420462Z",
     "shell.execute_reply": "2024-03-15T12:10:13.418982Z"
    },
    "papermill": {
     "duration": 0.162147,
     "end_time": "2024-03-15T12:10:13.423653",
     "exception": false,
     "start_time": "2024-03-15T12:10:13.261506",
     "status": "completed"
    },
    "tags": []
   },
   "outputs": [],
   "source": [
    "from sklearn.linear_model import LogisticRegression"
   ]
  },
  {
   "cell_type": "code",
   "execution_count": 52,
   "id": "e13ac606",
   "metadata": {
    "execution": {
     "iopub.execute_input": "2024-03-15T12:10:13.487858Z",
     "iopub.status.busy": "2024-03-15T12:10:13.487429Z",
     "iopub.status.idle": "2024-03-15T12:10:13.493352Z",
     "shell.execute_reply": "2024-03-15T12:10:13.491959Z"
    },
    "papermill": {
     "duration": 0.041095,
     "end_time": "2024-03-15T12:10:13.496102",
     "exception": false,
     "start_time": "2024-03-15T12:10:13.455007",
     "status": "completed"
    },
    "tags": []
   },
   "outputs": [],
   "source": [
    "logm = LogisticRegression()"
   ]
  },
  {
   "cell_type": "code",
   "execution_count": 53,
   "id": "07091274",
   "metadata": {
    "execution": {
     "iopub.execute_input": "2024-03-15T12:10:13.562077Z",
     "iopub.status.busy": "2024-03-15T12:10:13.561635Z",
     "iopub.status.idle": "2024-03-15T12:10:13.612498Z",
     "shell.execute_reply": "2024-03-15T12:10:13.610570Z"
    },
    "papermill": {
     "duration": 0.087363,
     "end_time": "2024-03-15T12:10:13.615815",
     "exception": false,
     "start_time": "2024-03-15T12:10:13.528452",
     "status": "completed"
    },
    "tags": []
   },
   "outputs": [
    {
     "name": "stderr",
     "output_type": "stream",
     "text": [
      "/opt/conda/lib/python3.10/site-packages/sklearn/linear_model/_logistic.py:458: ConvergenceWarning: lbfgs failed to converge (status=1):\n",
      "STOP: TOTAL NO. of ITERATIONS REACHED LIMIT.\n",
      "\n",
      "Increase the number of iterations (max_iter) or scale the data as shown in:\n",
      "    https://scikit-learn.org/stable/modules/preprocessing.html\n",
      "Please also refer to the documentation for alternative solver options:\n",
      "    https://scikit-learn.org/stable/modules/linear_model.html#logistic-regression\n",
      "  n_iter_i = _check_optimize_result(\n"
     ]
    },
    {
     "data": {
      "text/html": [
       "<style>#sk-container-id-1 {color: black;background-color: white;}#sk-container-id-1 pre{padding: 0;}#sk-container-id-1 div.sk-toggleable {background-color: white;}#sk-container-id-1 label.sk-toggleable__label {cursor: pointer;display: block;width: 100%;margin-bottom: 0;padding: 0.3em;box-sizing: border-box;text-align: center;}#sk-container-id-1 label.sk-toggleable__label-arrow:before {content: \"▸\";float: left;margin-right: 0.25em;color: #696969;}#sk-container-id-1 label.sk-toggleable__label-arrow:hover:before {color: black;}#sk-container-id-1 div.sk-estimator:hover label.sk-toggleable__label-arrow:before {color: black;}#sk-container-id-1 div.sk-toggleable__content {max-height: 0;max-width: 0;overflow: hidden;text-align: left;background-color: #f0f8ff;}#sk-container-id-1 div.sk-toggleable__content pre {margin: 0.2em;color: black;border-radius: 0.25em;background-color: #f0f8ff;}#sk-container-id-1 input.sk-toggleable__control:checked~div.sk-toggleable__content {max-height: 200px;max-width: 100%;overflow: auto;}#sk-container-id-1 input.sk-toggleable__control:checked~label.sk-toggleable__label-arrow:before {content: \"▾\";}#sk-container-id-1 div.sk-estimator input.sk-toggleable__control:checked~label.sk-toggleable__label {background-color: #d4ebff;}#sk-container-id-1 div.sk-label input.sk-toggleable__control:checked~label.sk-toggleable__label {background-color: #d4ebff;}#sk-container-id-1 input.sk-hidden--visually {border: 0;clip: rect(1px 1px 1px 1px);clip: rect(1px, 1px, 1px, 1px);height: 1px;margin: -1px;overflow: hidden;padding: 0;position: absolute;width: 1px;}#sk-container-id-1 div.sk-estimator {font-family: monospace;background-color: #f0f8ff;border: 1px dotted black;border-radius: 0.25em;box-sizing: border-box;margin-bottom: 0.5em;}#sk-container-id-1 div.sk-estimator:hover {background-color: #d4ebff;}#sk-container-id-1 div.sk-parallel-item::after {content: \"\";width: 100%;border-bottom: 1px solid gray;flex-grow: 1;}#sk-container-id-1 div.sk-label:hover label.sk-toggleable__label {background-color: #d4ebff;}#sk-container-id-1 div.sk-serial::before {content: \"\";position: absolute;border-left: 1px solid gray;box-sizing: border-box;top: 0;bottom: 0;left: 50%;z-index: 0;}#sk-container-id-1 div.sk-serial {display: flex;flex-direction: column;align-items: center;background-color: white;padding-right: 0.2em;padding-left: 0.2em;position: relative;}#sk-container-id-1 div.sk-item {position: relative;z-index: 1;}#sk-container-id-1 div.sk-parallel {display: flex;align-items: stretch;justify-content: center;background-color: white;position: relative;}#sk-container-id-1 div.sk-item::before, #sk-container-id-1 div.sk-parallel-item::before {content: \"\";position: absolute;border-left: 1px solid gray;box-sizing: border-box;top: 0;bottom: 0;left: 50%;z-index: -1;}#sk-container-id-1 div.sk-parallel-item {display: flex;flex-direction: column;z-index: 1;position: relative;background-color: white;}#sk-container-id-1 div.sk-parallel-item:first-child::after {align-self: flex-end;width: 50%;}#sk-container-id-1 div.sk-parallel-item:last-child::after {align-self: flex-start;width: 50%;}#sk-container-id-1 div.sk-parallel-item:only-child::after {width: 0;}#sk-container-id-1 div.sk-dashed-wrapped {border: 1px dashed gray;margin: 0 0.4em 0.5em 0.4em;box-sizing: border-box;padding-bottom: 0.4em;background-color: white;}#sk-container-id-1 div.sk-label label {font-family: monospace;font-weight: bold;display: inline-block;line-height: 1.2em;}#sk-container-id-1 div.sk-label-container {text-align: center;}#sk-container-id-1 div.sk-container {/* jupyter's `normalize.less` sets `[hidden] { display: none; }` but bootstrap.min.css set `[hidden] { display: none !important; }` so we also need the `!important` here to be able to override the default hidden behavior on the sphinx rendered scikit-learn.org. See: https://github.com/scikit-learn/scikit-learn/issues/21755 */display: inline-block !important;position: relative;}#sk-container-id-1 div.sk-text-repr-fallback {display: none;}</style><div id=\"sk-container-id-1\" class=\"sk-top-container\"><div class=\"sk-text-repr-fallback\"><pre>LogisticRegression()</pre><b>In a Jupyter environment, please rerun this cell to show the HTML representation or trust the notebook. <br />On GitHub, the HTML representation is unable to render, please try loading this page with nbviewer.org.</b></div><div class=\"sk-container\" hidden><div class=\"sk-item\"><div class=\"sk-estimator sk-toggleable\"><input class=\"sk-toggleable__control sk-hidden--visually\" id=\"sk-estimator-id-1\" type=\"checkbox\" checked><label for=\"sk-estimator-id-1\" class=\"sk-toggleable__label sk-toggleable__label-arrow\">LogisticRegression</label><div class=\"sk-toggleable__content\"><pre>LogisticRegression()</pre></div></div></div></div></div>"
      ],
      "text/plain": [
       "LogisticRegression()"
      ]
     },
     "execution_count": 53,
     "metadata": {},
     "output_type": "execute_result"
    }
   ],
   "source": [
    "logm.fit(X_train, y_train)"
   ]
  },
  {
   "cell_type": "code",
   "execution_count": 54,
   "id": "039db4dc",
   "metadata": {
    "execution": {
     "iopub.execute_input": "2024-03-15T12:10:13.680988Z",
     "iopub.status.busy": "2024-03-15T12:10:13.680598Z",
     "iopub.status.idle": "2024-03-15T12:10:13.688690Z",
     "shell.execute_reply": "2024-03-15T12:10:13.687668Z"
    },
    "papermill": {
     "duration": 0.043298,
     "end_time": "2024-03-15T12:10:13.691184",
     "exception": false,
     "start_time": "2024-03-15T12:10:13.647886",
     "status": "completed"
    },
    "tags": []
   },
   "outputs": [],
   "source": [
    "prediction = logm.predict(X_test)"
   ]
  },
  {
   "cell_type": "code",
   "execution_count": 55,
   "id": "fbb00f8b",
   "metadata": {
    "execution": {
     "iopub.execute_input": "2024-03-15T12:10:13.759575Z",
     "iopub.status.busy": "2024-03-15T12:10:13.759100Z",
     "iopub.status.idle": "2024-03-15T12:10:13.776510Z",
     "shell.execute_reply": "2024-03-15T12:10:13.775428Z"
    },
    "papermill": {
     "duration": 0.055585,
     "end_time": "2024-03-15T12:10:13.779106",
     "exception": false,
     "start_time": "2024-03-15T12:10:13.723521",
     "status": "completed"
    },
    "tags": []
   },
   "outputs": [
    {
     "name": "stdout",
     "output_type": "stream",
     "text": [
      "              precision    recall  f1-score   support\n",
      "\n",
      "           0       0.78      0.88      0.83       154\n",
      "           1       0.80      0.67      0.73       114\n",
      "\n",
      "    accuracy                           0.79       268\n",
      "   macro avg       0.79      0.77      0.78       268\n",
      "weighted avg       0.79      0.79      0.78       268\n",
      "\n"
     ]
    }
   ],
   "source": [
    "from sklearn.metrics import classification_report\n",
    "print(classification_report(y_test, prediction))"
   ]
  },
  {
   "cell_type": "code",
   "execution_count": 56,
   "id": "31356e7f",
   "metadata": {
    "execution": {
     "iopub.execute_input": "2024-03-15T12:10:13.846219Z",
     "iopub.status.busy": "2024-03-15T12:10:13.845814Z",
     "iopub.status.idle": "2024-03-15T12:10:13.857057Z",
     "shell.execute_reply": "2024-03-15T12:10:13.855534Z"
    },
    "papermill": {
     "duration": 0.046865,
     "end_time": "2024-03-15T12:10:13.859531",
     "exception": false,
     "start_time": "2024-03-15T12:10:13.812666",
     "status": "completed"
    },
    "tags": []
   },
   "outputs": [
    {
     "data": {
      "text/plain": [
       "array([[135,  19],\n",
       "       [ 38,  76]])"
      ]
     },
     "execution_count": 56,
     "metadata": {},
     "output_type": "execute_result"
    }
   ],
   "source": [
    "from sklearn.metrics import confusion_matrix\n",
    "confusion_matrix(y_test,prediction)"
   ]
  },
  {
   "cell_type": "code",
   "execution_count": 57,
   "id": "b6209395",
   "metadata": {
    "execution": {
     "iopub.execute_input": "2024-03-15T12:10:13.924680Z",
     "iopub.status.busy": "2024-03-15T12:10:13.924249Z",
     "iopub.status.idle": "2024-03-15T12:10:13.932709Z",
     "shell.execute_reply": "2024-03-15T12:10:13.931567Z"
    },
    "papermill": {
     "duration": 0.044108,
     "end_time": "2024-03-15T12:10:13.935240",
     "exception": false,
     "start_time": "2024-03-15T12:10:13.891132",
     "status": "completed"
    },
    "tags": []
   },
   "outputs": [
    {
     "data": {
      "text/plain": [
       "0.7873134328358209"
      ]
     },
     "execution_count": 57,
     "metadata": {},
     "output_type": "execute_result"
    }
   ],
   "source": [
    "from sklearn.metrics import accuracy_score\n",
    "accuracy_score(prediction, y_test)"
   ]
  },
  {
   "cell_type": "code",
   "execution_count": 58,
   "id": "a3c75365",
   "metadata": {
    "execution": {
     "iopub.execute_input": "2024-03-15T12:10:14.001329Z",
     "iopub.status.busy": "2024-03-15T12:10:14.000920Z",
     "iopub.status.idle": "2024-03-15T12:10:14.006357Z",
     "shell.execute_reply": "2024-03-15T12:10:14.005091Z"
    },
    "papermill": {
     "duration": 0.041977,
     "end_time": "2024-03-15T12:10:14.008980",
     "exception": false,
     "start_time": "2024-03-15T12:10:13.967003",
     "status": "completed"
    },
    "tags": []
   },
   "outputs": [],
   "source": [
    "Xf=test.iloc[:,:].values"
   ]
  },
  {
   "cell_type": "code",
   "execution_count": 59,
   "id": "bcf6d3a3",
   "metadata": {
    "execution": {
     "iopub.execute_input": "2024-03-15T12:10:14.076501Z",
     "iopub.status.busy": "2024-03-15T12:10:14.076059Z",
     "iopub.status.idle": "2024-03-15T12:10:14.084927Z",
     "shell.execute_reply": "2024-03-15T12:10:14.083847Z"
    },
    "papermill": {
     "duration": 0.046045,
     "end_time": "2024-03-15T12:10:14.087549",
     "exception": false,
     "start_time": "2024-03-15T12:10:14.041504",
     "status": "completed"
    },
    "tags": []
   },
   "outputs": [
    {
     "name": "stderr",
     "output_type": "stream",
     "text": [
      "/opt/conda/lib/python3.10/site-packages/sklearn/base.py:439: UserWarning: X does not have valid feature names, but LogisticRegression was fitted with feature names\n",
      "  warnings.warn(\n"
     ]
    }
   ],
   "source": [
    "y_final=logm.predict(Xf)"
   ]
  },
  {
   "cell_type": "code",
   "execution_count": 60,
   "id": "3338a219",
   "metadata": {
    "execution": {
     "iopub.execute_input": "2024-03-15T12:10:14.153568Z",
     "iopub.status.busy": "2024-03-15T12:10:14.152872Z",
     "iopub.status.idle": "2024-03-15T12:10:14.159722Z",
     "shell.execute_reply": "2024-03-15T12:10:14.158548Z"
    },
    "papermill": {
     "duration": 0.042966,
     "end_time": "2024-03-15T12:10:14.162342",
     "exception": false,
     "start_time": "2024-03-15T12:10:14.119376",
     "status": "completed"
    },
    "tags": []
   },
   "outputs": [
    {
     "data": {
      "text/plain": [
       "(418,)"
      ]
     },
     "execution_count": 60,
     "metadata": {},
     "output_type": "execute_result"
    }
   ],
   "source": [
    "y_final.shape"
   ]
  },
  {
   "cell_type": "code",
   "execution_count": 61,
   "id": "69de6afc",
   "metadata": {
    "execution": {
     "iopub.execute_input": "2024-03-15T12:10:14.230607Z",
     "iopub.status.busy": "2024-03-15T12:10:14.230139Z",
     "iopub.status.idle": "2024-03-15T12:10:14.237015Z",
     "shell.execute_reply": "2024-03-15T12:10:14.235987Z"
    },
    "papermill": {
     "duration": 0.044204,
     "end_time": "2024-03-15T12:10:14.239542",
     "exception": false,
     "start_time": "2024-03-15T12:10:14.195338",
     "status": "completed"
    },
    "tags": []
   },
   "outputs": [
    {
     "data": {
      "text/plain": [
       "(418,)"
      ]
     },
     "execution_count": 61,
     "metadata": {},
     "output_type": "execute_result"
    }
   ],
   "source": [
    "passenger_id.shape"
   ]
  },
  {
   "cell_type": "code",
   "execution_count": 62,
   "id": "13db5a87",
   "metadata": {
    "execution": {
     "iopub.execute_input": "2024-03-15T12:10:14.305859Z",
     "iopub.status.busy": "2024-03-15T12:10:14.305398Z",
     "iopub.status.idle": "2024-03-15T12:10:14.311526Z",
     "shell.execute_reply": "2024-03-15T12:10:14.310313Z"
    },
    "papermill": {
     "duration": 0.042615,
     "end_time": "2024-03-15T12:10:14.314043",
     "exception": false,
     "start_time": "2024-03-15T12:10:14.271428",
     "status": "completed"
    },
    "tags": []
   },
   "outputs": [],
   "source": [
    "sub = pd.DataFrame()"
   ]
  },
  {
   "cell_type": "code",
   "execution_count": 63,
   "id": "75b1c93e",
   "metadata": {
    "execution": {
     "iopub.execute_input": "2024-03-15T12:10:14.380897Z",
     "iopub.status.busy": "2024-03-15T12:10:14.380477Z",
     "iopub.status.idle": "2024-03-15T12:10:14.387455Z",
     "shell.execute_reply": "2024-03-15T12:10:14.386231Z"
    },
    "papermill": {
     "duration": 0.043575,
     "end_time": "2024-03-15T12:10:14.390031",
     "exception": false,
     "start_time": "2024-03-15T12:10:14.346456",
     "status": "completed"
    },
    "tags": []
   },
   "outputs": [],
   "source": [
    "sub['PassengerID'] = passenger_id\n",
    "sub['Survived'] = y_final"
   ]
  },
  {
   "cell_type": "code",
   "execution_count": 64,
   "id": "2f678ed2",
   "metadata": {
    "execution": {
     "iopub.execute_input": "2024-03-15T12:10:14.458156Z",
     "iopub.status.busy": "2024-03-15T12:10:14.457716Z",
     "iopub.status.idle": "2024-03-15T12:10:14.469895Z",
     "shell.execute_reply": "2024-03-15T12:10:14.468951Z"
    },
    "papermill": {
     "duration": 0.050243,
     "end_time": "2024-03-15T12:10:14.472644",
     "exception": false,
     "start_time": "2024-03-15T12:10:14.422401",
     "status": "completed"
    },
    "tags": []
   },
   "outputs": [
    {
     "data": {
      "text/html": [
       "<div>\n",
       "<style scoped>\n",
       "    .dataframe tbody tr th:only-of-type {\n",
       "        vertical-align: middle;\n",
       "    }\n",
       "\n",
       "    .dataframe tbody tr th {\n",
       "        vertical-align: top;\n",
       "    }\n",
       "\n",
       "    .dataframe thead th {\n",
       "        text-align: right;\n",
       "    }\n",
       "</style>\n",
       "<table border=\"1\" class=\"dataframe\">\n",
       "  <thead>\n",
       "    <tr style=\"text-align: right;\">\n",
       "      <th></th>\n",
       "      <th>PassengerID</th>\n",
       "      <th>Survived</th>\n",
       "    </tr>\n",
       "  </thead>\n",
       "  <tbody>\n",
       "    <tr>\n",
       "      <th>0</th>\n",
       "      <td>892</td>\n",
       "      <td>0</td>\n",
       "    </tr>\n",
       "    <tr>\n",
       "      <th>1</th>\n",
       "      <td>893</td>\n",
       "      <td>0</td>\n",
       "    </tr>\n",
       "    <tr>\n",
       "      <th>2</th>\n",
       "      <td>894</td>\n",
       "      <td>0</td>\n",
       "    </tr>\n",
       "    <tr>\n",
       "      <th>3</th>\n",
       "      <td>895</td>\n",
       "      <td>0</td>\n",
       "    </tr>\n",
       "    <tr>\n",
       "      <th>4</th>\n",
       "      <td>896</td>\n",
       "      <td>1</td>\n",
       "    </tr>\n",
       "    <tr>\n",
       "      <th>...</th>\n",
       "      <td>...</td>\n",
       "      <td>...</td>\n",
       "    </tr>\n",
       "    <tr>\n",
       "      <th>413</th>\n",
       "      <td>1305</td>\n",
       "      <td>0</td>\n",
       "    </tr>\n",
       "    <tr>\n",
       "      <th>414</th>\n",
       "      <td>1306</td>\n",
       "      <td>1</td>\n",
       "    </tr>\n",
       "    <tr>\n",
       "      <th>415</th>\n",
       "      <td>1307</td>\n",
       "      <td>0</td>\n",
       "    </tr>\n",
       "    <tr>\n",
       "      <th>416</th>\n",
       "      <td>1308</td>\n",
       "      <td>0</td>\n",
       "    </tr>\n",
       "    <tr>\n",
       "      <th>417</th>\n",
       "      <td>1309</td>\n",
       "      <td>0</td>\n",
       "    </tr>\n",
       "  </tbody>\n",
       "</table>\n",
       "<p>418 rows × 2 columns</p>\n",
       "</div>"
      ],
      "text/plain": [
       "     PassengerID  Survived\n",
       "0            892         0\n",
       "1            893         0\n",
       "2            894         0\n",
       "3            895         0\n",
       "4            896         1\n",
       "..           ...       ...\n",
       "413         1305         0\n",
       "414         1306         1\n",
       "415         1307         0\n",
       "416         1308         0\n",
       "417         1309         0\n",
       "\n",
       "[418 rows x 2 columns]"
      ]
     },
     "execution_count": 64,
     "metadata": {},
     "output_type": "execute_result"
    }
   ],
   "source": [
    "sub"
   ]
  },
  {
   "cell_type": "code",
   "execution_count": 65,
   "id": "9482d57c",
   "metadata": {
    "execution": {
     "iopub.execute_input": "2024-03-15T12:10:14.540948Z",
     "iopub.status.busy": "2024-03-15T12:10:14.540216Z",
     "iopub.status.idle": "2024-03-15T12:10:14.549108Z",
     "shell.execute_reply": "2024-03-15T12:10:14.548195Z"
    },
    "papermill": {
     "duration": 0.045874,
     "end_time": "2024-03-15T12:10:14.551720",
     "exception": false,
     "start_time": "2024-03-15T12:10:14.505846",
     "status": "completed"
    },
    "tags": []
   },
   "outputs": [],
   "source": [
    "sub.to_csv('Submission.csv', index=False)"
   ]
  }
 ],
 "metadata": {
  "kaggle": {
   "accelerator": "none",
   "dataSources": [
    {
     "databundleVersionId": 26502,
     "sourceId": 3136,
     "sourceType": "competition"
    }
   ],
   "dockerImageVersionId": 30664,
   "isGpuEnabled": false,
   "isInternetEnabled": true,
   "language": "python",
   "sourceType": "notebook"
  },
  "kernelspec": {
   "display_name": "Python 3",
   "language": "python",
   "name": "python3"
  },
  "language_info": {
   "codemirror_mode": {
    "name": "ipython",
    "version": 3
   },
   "file_extension": ".py",
   "mimetype": "text/x-python",
   "name": "python",
   "nbconvert_exporter": "python",
   "pygments_lexer": "ipython3",
   "version": "3.10.13"
  },
  "papermill": {
   "default_parameters": {},
   "duration": 17.794404,
   "end_time": "2024-03-15T12:10:15.307090",
   "environment_variables": {},
   "exception": null,
   "input_path": "__notebook__.ipynb",
   "output_path": "__notebook__.ipynb",
   "parameters": {},
   "start_time": "2024-03-15T12:09:57.512686",
   "version": "2.5.0"
  }
 },
 "nbformat": 4,
 "nbformat_minor": 5
}
